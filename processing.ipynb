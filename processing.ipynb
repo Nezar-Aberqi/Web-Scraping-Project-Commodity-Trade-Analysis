{
 "cells": [
  {
   "cell_type": "markdown",
   "metadata": {},
   "source": [
    "<h3> Preprocessing of tradings depending on the commodities <h3>\n"
   ]
  },
  {
   "cell_type": "code",
   "execution_count": 8,
   "metadata": {},
   "outputs": [],
   "source": [
    "import numpy as np \n",
    "import pandas as pd\n",
    "import matplotlib.pyplot as plt\n",
    "import seaborn as sns\n",
    "import os \n",
    "import plotly.express as px\n",
    "import plotly.graph_objects as go\n"
   ]
  },
  {
   "cell_type": "code",
   "execution_count": 13,
   "metadata": {},
   "outputs": [],
   "source": [
    "trade_data = pd.read_csv('trading_data.csv')"
   ]
  },
  {
   "cell_type": "code",
   "execution_count": 14,
   "metadata": {},
   "outputs": [],
   "source": [
    "def filter_trades_world(country,commodity_code,trade_flow): \n",
    "    filtered_trades = trade_data[(trade_data['Reporter'] == country) & \n",
    "               (trade_data['Commodity Code'] == commodity_code) & \n",
    "               (trade_data['Trade Flow'] == trade_flow) & \n",
    "               (trade_data['Partner'] == 'World')]\n",
    "    return filtered_trades\n",
    "\n",
    "def filter_trades(country,commodity_code,trade_flow): \n",
    "    filtered_trades = trade_data[(trade_data['Reporter'] == country) & \n",
    "               (trade_data['Commodity Code'] == commodity_code) & \n",
    "               (trade_data['Trade Flow'] == trade_flow)]\n",
    "    return filtered_trades\n"
   ]
  },
  {
   "cell_type": "code",
   "execution_count": 46,
   "metadata": {},
   "outputs": [
    {
     "data": {
      "application/vnd.plotly.v1+json": {
       "config": {
        "plotlyServerURL": "https://plot.ly"
       },
       "data": [
        {
         "hovertemplate": "Period=%{x}<br>Trade Value (M $)=%{y}<extra></extra>",
         "legendgroup": "",
         "line": {
          "color": "darkred",
          "dash": "solid",
          "shape": "linear"
         },
         "marker": {
          "color": "darkred",
          "size": 10,
          "symbol": "circle"
         },
         "mode": "lines+markers",
         "name": "",
         "orientation": "v",
         "showlegend": false,
         "type": "scatter",
         "x": [
          2012,
          2013,
          2014,
          2015,
          2016,
          2017,
          2018,
          2019,
          2020,
          2021,
          2022,
          2023
         ],
         "xaxis": "x",
         "y": [
          2633.51,
          5099.46,
          12309.09,
          8768.74,
          9462.12,
          22502.17,
          48261.57,
          65323.19,
          50285.96,
          69356.11,
          117034.46,
          117160.52
         ],
         "yaxis": "y"
        }
       ],
       "layout": {
        "font": {
         "color": "darkblue"
        },
        "legend": {
         "tracegroupgap": 0
        },
        "plot_bgcolor": "white",
        "template": {
         "data": {
          "bar": [
           {
            "error_x": {
             "color": "#2a3f5f"
            },
            "error_y": {
             "color": "#2a3f5f"
            },
            "marker": {
             "line": {
              "color": "#E5ECF6",
              "width": 0.5
             },
             "pattern": {
              "fillmode": "overlay",
              "size": 10,
              "solidity": 0.2
             }
            },
            "type": "bar"
           }
          ],
          "barpolar": [
           {
            "marker": {
             "line": {
              "color": "#E5ECF6",
              "width": 0.5
             },
             "pattern": {
              "fillmode": "overlay",
              "size": 10,
              "solidity": 0.2
             }
            },
            "type": "barpolar"
           }
          ],
          "carpet": [
           {
            "aaxis": {
             "endlinecolor": "#2a3f5f",
             "gridcolor": "white",
             "linecolor": "white",
             "minorgridcolor": "white",
             "startlinecolor": "#2a3f5f"
            },
            "baxis": {
             "endlinecolor": "#2a3f5f",
             "gridcolor": "white",
             "linecolor": "white",
             "minorgridcolor": "white",
             "startlinecolor": "#2a3f5f"
            },
            "type": "carpet"
           }
          ],
          "choropleth": [
           {
            "colorbar": {
             "outlinewidth": 0,
             "ticks": ""
            },
            "type": "choropleth"
           }
          ],
          "contour": [
           {
            "colorbar": {
             "outlinewidth": 0,
             "ticks": ""
            },
            "colorscale": [
             [
              0,
              "#0d0887"
             ],
             [
              0.1111111111111111,
              "#46039f"
             ],
             [
              0.2222222222222222,
              "#7201a8"
             ],
             [
              0.3333333333333333,
              "#9c179e"
             ],
             [
              0.4444444444444444,
              "#bd3786"
             ],
             [
              0.5555555555555556,
              "#d8576b"
             ],
             [
              0.6666666666666666,
              "#ed7953"
             ],
             [
              0.7777777777777778,
              "#fb9f3a"
             ],
             [
              0.8888888888888888,
              "#fdca26"
             ],
             [
              1,
              "#f0f921"
             ]
            ],
            "type": "contour"
           }
          ],
          "contourcarpet": [
           {
            "colorbar": {
             "outlinewidth": 0,
             "ticks": ""
            },
            "type": "contourcarpet"
           }
          ],
          "heatmap": [
           {
            "colorbar": {
             "outlinewidth": 0,
             "ticks": ""
            },
            "colorscale": [
             [
              0,
              "#0d0887"
             ],
             [
              0.1111111111111111,
              "#46039f"
             ],
             [
              0.2222222222222222,
              "#7201a8"
             ],
             [
              0.3333333333333333,
              "#9c179e"
             ],
             [
              0.4444444444444444,
              "#bd3786"
             ],
             [
              0.5555555555555556,
              "#d8576b"
             ],
             [
              0.6666666666666666,
              "#ed7953"
             ],
             [
              0.7777777777777778,
              "#fb9f3a"
             ],
             [
              0.8888888888888888,
              "#fdca26"
             ],
             [
              1,
              "#f0f921"
             ]
            ],
            "type": "heatmap"
           }
          ],
          "heatmapgl": [
           {
            "colorbar": {
             "outlinewidth": 0,
             "ticks": ""
            },
            "colorscale": [
             [
              0,
              "#0d0887"
             ],
             [
              0.1111111111111111,
              "#46039f"
             ],
             [
              0.2222222222222222,
              "#7201a8"
             ],
             [
              0.3333333333333333,
              "#9c179e"
             ],
             [
              0.4444444444444444,
              "#bd3786"
             ],
             [
              0.5555555555555556,
              "#d8576b"
             ],
             [
              0.6666666666666666,
              "#ed7953"
             ],
             [
              0.7777777777777778,
              "#fb9f3a"
             ],
             [
              0.8888888888888888,
              "#fdca26"
             ],
             [
              1,
              "#f0f921"
             ]
            ],
            "type": "heatmapgl"
           }
          ],
          "histogram": [
           {
            "marker": {
             "pattern": {
              "fillmode": "overlay",
              "size": 10,
              "solidity": 0.2
             }
            },
            "type": "histogram"
           }
          ],
          "histogram2d": [
           {
            "colorbar": {
             "outlinewidth": 0,
             "ticks": ""
            },
            "colorscale": [
             [
              0,
              "#0d0887"
             ],
             [
              0.1111111111111111,
              "#46039f"
             ],
             [
              0.2222222222222222,
              "#7201a8"
             ],
             [
              0.3333333333333333,
              "#9c179e"
             ],
             [
              0.4444444444444444,
              "#bd3786"
             ],
             [
              0.5555555555555556,
              "#d8576b"
             ],
             [
              0.6666666666666666,
              "#ed7953"
             ],
             [
              0.7777777777777778,
              "#fb9f3a"
             ],
             [
              0.8888888888888888,
              "#fdca26"
             ],
             [
              1,
              "#f0f921"
             ]
            ],
            "type": "histogram2d"
           }
          ],
          "histogram2dcontour": [
           {
            "colorbar": {
             "outlinewidth": 0,
             "ticks": ""
            },
            "colorscale": [
             [
              0,
              "#0d0887"
             ],
             [
              0.1111111111111111,
              "#46039f"
             ],
             [
              0.2222222222222222,
              "#7201a8"
             ],
             [
              0.3333333333333333,
              "#9c179e"
             ],
             [
              0.4444444444444444,
              "#bd3786"
             ],
             [
              0.5555555555555556,
              "#d8576b"
             ],
             [
              0.6666666666666666,
              "#ed7953"
             ],
             [
              0.7777777777777778,
              "#fb9f3a"
             ],
             [
              0.8888888888888888,
              "#fdca26"
             ],
             [
              1,
              "#f0f921"
             ]
            ],
            "type": "histogram2dcontour"
           }
          ],
          "mesh3d": [
           {
            "colorbar": {
             "outlinewidth": 0,
             "ticks": ""
            },
            "type": "mesh3d"
           }
          ],
          "parcoords": [
           {
            "line": {
             "colorbar": {
              "outlinewidth": 0,
              "ticks": ""
             }
            },
            "type": "parcoords"
           }
          ],
          "pie": [
           {
            "automargin": true,
            "type": "pie"
           }
          ],
          "scatter": [
           {
            "fillpattern": {
             "fillmode": "overlay",
             "size": 10,
             "solidity": 0.2
            },
            "type": "scatter"
           }
          ],
          "scatter3d": [
           {
            "line": {
             "colorbar": {
              "outlinewidth": 0,
              "ticks": ""
             }
            },
            "marker": {
             "colorbar": {
              "outlinewidth": 0,
              "ticks": ""
             }
            },
            "type": "scatter3d"
           }
          ],
          "scattercarpet": [
           {
            "marker": {
             "colorbar": {
              "outlinewidth": 0,
              "ticks": ""
             }
            },
            "type": "scattercarpet"
           }
          ],
          "scattergeo": [
           {
            "marker": {
             "colorbar": {
              "outlinewidth": 0,
              "ticks": ""
             }
            },
            "type": "scattergeo"
           }
          ],
          "scattergl": [
           {
            "marker": {
             "colorbar": {
              "outlinewidth": 0,
              "ticks": ""
             }
            },
            "type": "scattergl"
           }
          ],
          "scattermapbox": [
           {
            "marker": {
             "colorbar": {
              "outlinewidth": 0,
              "ticks": ""
             }
            },
            "type": "scattermapbox"
           }
          ],
          "scatterpolar": [
           {
            "marker": {
             "colorbar": {
              "outlinewidth": 0,
              "ticks": ""
             }
            },
            "type": "scatterpolar"
           }
          ],
          "scatterpolargl": [
           {
            "marker": {
             "colorbar": {
              "outlinewidth": 0,
              "ticks": ""
             }
            },
            "type": "scatterpolargl"
           }
          ],
          "scatterternary": [
           {
            "marker": {
             "colorbar": {
              "outlinewidth": 0,
              "ticks": ""
             }
            },
            "type": "scatterternary"
           }
          ],
          "surface": [
           {
            "colorbar": {
             "outlinewidth": 0,
             "ticks": ""
            },
            "colorscale": [
             [
              0,
              "#0d0887"
             ],
             [
              0.1111111111111111,
              "#46039f"
             ],
             [
              0.2222222222222222,
              "#7201a8"
             ],
             [
              0.3333333333333333,
              "#9c179e"
             ],
             [
              0.4444444444444444,
              "#bd3786"
             ],
             [
              0.5555555555555556,
              "#d8576b"
             ],
             [
              0.6666666666666666,
              "#ed7953"
             ],
             [
              0.7777777777777778,
              "#fb9f3a"
             ],
             [
              0.8888888888888888,
              "#fdca26"
             ],
             [
              1,
              "#f0f921"
             ]
            ],
            "type": "surface"
           }
          ],
          "table": [
           {
            "cells": {
             "fill": {
              "color": "#EBF0F8"
             },
             "line": {
              "color": "white"
             }
            },
            "header": {
             "fill": {
              "color": "#C8D4E3"
             },
             "line": {
              "color": "white"
             }
            },
            "type": "table"
           }
          ]
         },
         "layout": {
          "annotationdefaults": {
           "arrowcolor": "#2a3f5f",
           "arrowhead": 0,
           "arrowwidth": 1
          },
          "autotypenumbers": "strict",
          "coloraxis": {
           "colorbar": {
            "outlinewidth": 0,
            "ticks": ""
           }
          },
          "colorscale": {
           "diverging": [
            [
             0,
             "#8e0152"
            ],
            [
             0.1,
             "#c51b7d"
            ],
            [
             0.2,
             "#de77ae"
            ],
            [
             0.3,
             "#f1b6da"
            ],
            [
             0.4,
             "#fde0ef"
            ],
            [
             0.5,
             "#f7f7f7"
            ],
            [
             0.6,
             "#e6f5d0"
            ],
            [
             0.7,
             "#b8e186"
            ],
            [
             0.8,
             "#7fbc41"
            ],
            [
             0.9,
             "#4d9221"
            ],
            [
             1,
             "#276419"
            ]
           ],
           "sequential": [
            [
             0,
             "#0d0887"
            ],
            [
             0.1111111111111111,
             "#46039f"
            ],
            [
             0.2222222222222222,
             "#7201a8"
            ],
            [
             0.3333333333333333,
             "#9c179e"
            ],
            [
             0.4444444444444444,
             "#bd3786"
            ],
            [
             0.5555555555555556,
             "#d8576b"
            ],
            [
             0.6666666666666666,
             "#ed7953"
            ],
            [
             0.7777777777777778,
             "#fb9f3a"
            ],
            [
             0.8888888888888888,
             "#fdca26"
            ],
            [
             1,
             "#f0f921"
            ]
           ],
           "sequentialminus": [
            [
             0,
             "#0d0887"
            ],
            [
             0.1111111111111111,
             "#46039f"
            ],
            [
             0.2222222222222222,
             "#7201a8"
            ],
            [
             0.3333333333333333,
             "#9c179e"
            ],
            [
             0.4444444444444444,
             "#bd3786"
            ],
            [
             0.5555555555555556,
             "#d8576b"
            ],
            [
             0.6666666666666666,
             "#ed7953"
            ],
            [
             0.7777777777777778,
             "#fb9f3a"
            ],
            [
             0.8888888888888888,
             "#fdca26"
            ],
            [
             1,
             "#f0f921"
            ]
           ]
          },
          "colorway": [
           "#636efa",
           "#EF553B",
           "#00cc96",
           "#ab63fa",
           "#FFA15A",
           "#19d3f3",
           "#FF6692",
           "#B6E880",
           "#FF97FF",
           "#FECB52"
          ],
          "font": {
           "color": "#2a3f5f"
          },
          "geo": {
           "bgcolor": "white",
           "lakecolor": "white",
           "landcolor": "#E5ECF6",
           "showlakes": true,
           "showland": true,
           "subunitcolor": "white"
          },
          "hoverlabel": {
           "align": "left"
          },
          "hovermode": "closest",
          "mapbox": {
           "style": "light"
          },
          "paper_bgcolor": "white",
          "plot_bgcolor": "#E5ECF6",
          "polar": {
           "angularaxis": {
            "gridcolor": "white",
            "linecolor": "white",
            "ticks": ""
           },
           "bgcolor": "#E5ECF6",
           "radialaxis": {
            "gridcolor": "white",
            "linecolor": "white",
            "ticks": ""
           }
          },
          "scene": {
           "xaxis": {
            "backgroundcolor": "#E5ECF6",
            "gridcolor": "white",
            "gridwidth": 2,
            "linecolor": "white",
            "showbackground": true,
            "ticks": "",
            "zerolinecolor": "white"
           },
           "yaxis": {
            "backgroundcolor": "#E5ECF6",
            "gridcolor": "white",
            "gridwidth": 2,
            "linecolor": "white",
            "showbackground": true,
            "ticks": "",
            "zerolinecolor": "white"
           },
           "zaxis": {
            "backgroundcolor": "#E5ECF6",
            "gridcolor": "white",
            "gridwidth": 2,
            "linecolor": "white",
            "showbackground": true,
            "ticks": "",
            "zerolinecolor": "white"
           }
          },
          "shapedefaults": {
           "line": {
            "color": "#2a3f5f"
           }
          },
          "ternary": {
           "aaxis": {
            "gridcolor": "white",
            "linecolor": "white",
            "ticks": ""
           },
           "baxis": {
            "gridcolor": "white",
            "linecolor": "white",
            "ticks": ""
           },
           "bgcolor": "#E5ECF6",
           "caxis": {
            "gridcolor": "white",
            "linecolor": "white",
            "ticks": ""
           }
          },
          "title": {
           "x": 0.05
          },
          "xaxis": {
           "automargin": true,
           "gridcolor": "white",
           "linecolor": "white",
           "ticks": "",
           "title": {
            "standoff": 15
           },
           "zerolinecolor": "white",
           "zerolinewidth": 2
          },
          "yaxis": {
           "automargin": true,
           "gridcolor": "white",
           "linecolor": "white",
           "ticks": "",
           "title": {
            "standoff": 15
           },
           "zerolinecolor": "white",
           "zerolinewidth": 2
          }
         }
        },
        "title": {
         "text": "Evolution of Petrol Exports from the USA over the recent periods",
         "x": 0.5
        },
        "xaxis": {
         "anchor": "y",
         "domain": [
          0,
          1
         ],
         "dtick": 1,
         "showgrid": false,
         "title": {
          "text": "Period"
         }
        },
        "yaxis": {
         "anchor": "x",
         "domain": [
          0,
          1
         ],
         "gridcolor": "rgba(173, 216, 230, 0.5)",
         "showgrid": true,
         "tickformat": ",",
         "title": {
          "text": "USD millions"
         }
        }
       }
      }
     },
     "metadata": {},
     "output_type": "display_data"
    }
   ],
   "source": [
    "def plot_exports(country, commodity_code):\n",
    "    export_flows = filter_trades_world(country, commodity_code, 'Export')\n",
    "    figure = px.line(export_flows, x='Period', y='Trade Value (M $)', title=f'Evolution of {commodity_code} exports from {country} over the recent period')\n",
    "    \n",
    "    figure = px.line(export_flows, x='Period', y='Trade Value (M $)',\n",
    "                 title=f'Evolution of Petrol Exports from the USA over the recent periods',\n",
    "                 line_shape='linear',\n",
    "                 markers=True, \n",
    "                 color_discrete_sequence=['darkred']  \n",
    ")   \n",
    "    figure.update_layout(\n",
    "        title={'x': 0.5},  \n",
    "        font_color='darkblue',  \n",
    "        plot_bgcolor='white',  \n",
    "        yaxis=dict(title=\"USD millions\", tickformat=',', showgrid=True, gridcolor='rgba(173, 216, 230, 0.5)'),\n",
    "        xaxis = dict(showgrid=False,dtick=1)\n",
    "    )\n",
    "    # i want the x ticks to contain all the years from 2012 to 2024\n",
    "    figure.update_traces(marker=dict(size=10, color='darkred', symbol='circle')) \n",
    "    return figure\n",
    "plot_exports('USA',2709)"
   ]
  },
  {
   "cell_type": "code",
   "execution_count": 34,
   "metadata": {},
   "outputs": [
    {
     "data": {
      "application/vnd.plotly.v1+json": {
       "config": {
        "plotlyServerURL": "https://plot.ly"
       },
       "data": [
        {
         "hovertemplate": "Period=%{x}<br>Trade Value (M $)=%{y}<extra></extra>",
         "legendgroup": "",
         "line": {
          "color": "darkred",
          "dash": "solid",
          "shape": "linear"
         },
         "marker": {
          "color": "darkred",
          "size": 10,
          "symbol": "circle"
         },
         "mode": "lines+markers",
         "name": "",
         "orientation": "v",
         "showlegend": false,
         "type": "scatter",
         "x": [
          2012,
          2013,
          2014,
          2015,
          2016,
          2017,
          2018,
          2019,
          2020,
          2021,
          2022,
          2023
         ],
         "xaxis": "x",
         "y": [
          322024.5,
          279485.06,
          253228.7,
          132593.22,
          108092.13,
          139287.63,
          162801.5,
          132370.66,
          81629.6,
          138383.9,
          204715.57,
          172426.22
         ],
         "yaxis": "y"
        }
       ],
       "layout": {
        "font": {
         "color": "darkblue"
        },
        "legend": {
         "tracegroupgap": 0
        },
        "plot_bgcolor": "white",
        "template": {
         "data": {
          "bar": [
           {
            "error_x": {
             "color": "#2a3f5f"
            },
            "error_y": {
             "color": "#2a3f5f"
            },
            "marker": {
             "line": {
              "color": "#E5ECF6",
              "width": 0.5
             },
             "pattern": {
              "fillmode": "overlay",
              "size": 10,
              "solidity": 0.2
             }
            },
            "type": "bar"
           }
          ],
          "barpolar": [
           {
            "marker": {
             "line": {
              "color": "#E5ECF6",
              "width": 0.5
             },
             "pattern": {
              "fillmode": "overlay",
              "size": 10,
              "solidity": 0.2
             }
            },
            "type": "barpolar"
           }
          ],
          "carpet": [
           {
            "aaxis": {
             "endlinecolor": "#2a3f5f",
             "gridcolor": "white",
             "linecolor": "white",
             "minorgridcolor": "white",
             "startlinecolor": "#2a3f5f"
            },
            "baxis": {
             "endlinecolor": "#2a3f5f",
             "gridcolor": "white",
             "linecolor": "white",
             "minorgridcolor": "white",
             "startlinecolor": "#2a3f5f"
            },
            "type": "carpet"
           }
          ],
          "choropleth": [
           {
            "colorbar": {
             "outlinewidth": 0,
             "ticks": ""
            },
            "type": "choropleth"
           }
          ],
          "contour": [
           {
            "colorbar": {
             "outlinewidth": 0,
             "ticks": ""
            },
            "colorscale": [
             [
              0,
              "#0d0887"
             ],
             [
              0.1111111111111111,
              "#46039f"
             ],
             [
              0.2222222222222222,
              "#7201a8"
             ],
             [
              0.3333333333333333,
              "#9c179e"
             ],
             [
              0.4444444444444444,
              "#bd3786"
             ],
             [
              0.5555555555555556,
              "#d8576b"
             ],
             [
              0.6666666666666666,
              "#ed7953"
             ],
             [
              0.7777777777777778,
              "#fb9f3a"
             ],
             [
              0.8888888888888888,
              "#fdca26"
             ],
             [
              1,
              "#f0f921"
             ]
            ],
            "type": "contour"
           }
          ],
          "contourcarpet": [
           {
            "colorbar": {
             "outlinewidth": 0,
             "ticks": ""
            },
            "type": "contourcarpet"
           }
          ],
          "heatmap": [
           {
            "colorbar": {
             "outlinewidth": 0,
             "ticks": ""
            },
            "colorscale": [
             [
              0,
              "#0d0887"
             ],
             [
              0.1111111111111111,
              "#46039f"
             ],
             [
              0.2222222222222222,
              "#7201a8"
             ],
             [
              0.3333333333333333,
              "#9c179e"
             ],
             [
              0.4444444444444444,
              "#bd3786"
             ],
             [
              0.5555555555555556,
              "#d8576b"
             ],
             [
              0.6666666666666666,
              "#ed7953"
             ],
             [
              0.7777777777777778,
              "#fb9f3a"
             ],
             [
              0.8888888888888888,
              "#fdca26"
             ],
             [
              1,
              "#f0f921"
             ]
            ],
            "type": "heatmap"
           }
          ],
          "heatmapgl": [
           {
            "colorbar": {
             "outlinewidth": 0,
             "ticks": ""
            },
            "colorscale": [
             [
              0,
              "#0d0887"
             ],
             [
              0.1111111111111111,
              "#46039f"
             ],
             [
              0.2222222222222222,
              "#7201a8"
             ],
             [
              0.3333333333333333,
              "#9c179e"
             ],
             [
              0.4444444444444444,
              "#bd3786"
             ],
             [
              0.5555555555555556,
              "#d8576b"
             ],
             [
              0.6666666666666666,
              "#ed7953"
             ],
             [
              0.7777777777777778,
              "#fb9f3a"
             ],
             [
              0.8888888888888888,
              "#fdca26"
             ],
             [
              1,
              "#f0f921"
             ]
            ],
            "type": "heatmapgl"
           }
          ],
          "histogram": [
           {
            "marker": {
             "pattern": {
              "fillmode": "overlay",
              "size": 10,
              "solidity": 0.2
             }
            },
            "type": "histogram"
           }
          ],
          "histogram2d": [
           {
            "colorbar": {
             "outlinewidth": 0,
             "ticks": ""
            },
            "colorscale": [
             [
              0,
              "#0d0887"
             ],
             [
              0.1111111111111111,
              "#46039f"
             ],
             [
              0.2222222222222222,
              "#7201a8"
             ],
             [
              0.3333333333333333,
              "#9c179e"
             ],
             [
              0.4444444444444444,
              "#bd3786"
             ],
             [
              0.5555555555555556,
              "#d8576b"
             ],
             [
              0.6666666666666666,
              "#ed7953"
             ],
             [
              0.7777777777777778,
              "#fb9f3a"
             ],
             [
              0.8888888888888888,
              "#fdca26"
             ],
             [
              1,
              "#f0f921"
             ]
            ],
            "type": "histogram2d"
           }
          ],
          "histogram2dcontour": [
           {
            "colorbar": {
             "outlinewidth": 0,
             "ticks": ""
            },
            "colorscale": [
             [
              0,
              "#0d0887"
             ],
             [
              0.1111111111111111,
              "#46039f"
             ],
             [
              0.2222222222222222,
              "#7201a8"
             ],
             [
              0.3333333333333333,
              "#9c179e"
             ],
             [
              0.4444444444444444,
              "#bd3786"
             ],
             [
              0.5555555555555556,
              "#d8576b"
             ],
             [
              0.6666666666666666,
              "#ed7953"
             ],
             [
              0.7777777777777778,
              "#fb9f3a"
             ],
             [
              0.8888888888888888,
              "#fdca26"
             ],
             [
              1,
              "#f0f921"
             ]
            ],
            "type": "histogram2dcontour"
           }
          ],
          "mesh3d": [
           {
            "colorbar": {
             "outlinewidth": 0,
             "ticks": ""
            },
            "type": "mesh3d"
           }
          ],
          "parcoords": [
           {
            "line": {
             "colorbar": {
              "outlinewidth": 0,
              "ticks": ""
             }
            },
            "type": "parcoords"
           }
          ],
          "pie": [
           {
            "automargin": true,
            "type": "pie"
           }
          ],
          "scatter": [
           {
            "fillpattern": {
             "fillmode": "overlay",
             "size": 10,
             "solidity": 0.2
            },
            "type": "scatter"
           }
          ],
          "scatter3d": [
           {
            "line": {
             "colorbar": {
              "outlinewidth": 0,
              "ticks": ""
             }
            },
            "marker": {
             "colorbar": {
              "outlinewidth": 0,
              "ticks": ""
             }
            },
            "type": "scatter3d"
           }
          ],
          "scattercarpet": [
           {
            "marker": {
             "colorbar": {
              "outlinewidth": 0,
              "ticks": ""
             }
            },
            "type": "scattercarpet"
           }
          ],
          "scattergeo": [
           {
            "marker": {
             "colorbar": {
              "outlinewidth": 0,
              "ticks": ""
             }
            },
            "type": "scattergeo"
           }
          ],
          "scattergl": [
           {
            "marker": {
             "colorbar": {
              "outlinewidth": 0,
              "ticks": ""
             }
            },
            "type": "scattergl"
           }
          ],
          "scattermapbox": [
           {
            "marker": {
             "colorbar": {
              "outlinewidth": 0,
              "ticks": ""
             }
            },
            "type": "scattermapbox"
           }
          ],
          "scatterpolar": [
           {
            "marker": {
             "colorbar": {
              "outlinewidth": 0,
              "ticks": ""
             }
            },
            "type": "scatterpolar"
           }
          ],
          "scatterpolargl": [
           {
            "marker": {
             "colorbar": {
              "outlinewidth": 0,
              "ticks": ""
             }
            },
            "type": "scatterpolargl"
           }
          ],
          "scatterternary": [
           {
            "marker": {
             "colorbar": {
              "outlinewidth": 0,
              "ticks": ""
             }
            },
            "type": "scatterternary"
           }
          ],
          "surface": [
           {
            "colorbar": {
             "outlinewidth": 0,
             "ticks": ""
            },
            "colorscale": [
             [
              0,
              "#0d0887"
             ],
             [
              0.1111111111111111,
              "#46039f"
             ],
             [
              0.2222222222222222,
              "#7201a8"
             ],
             [
              0.3333333333333333,
              "#9c179e"
             ],
             [
              0.4444444444444444,
              "#bd3786"
             ],
             [
              0.5555555555555556,
              "#d8576b"
             ],
             [
              0.6666666666666666,
              "#ed7953"
             ],
             [
              0.7777777777777778,
              "#fb9f3a"
             ],
             [
              0.8888888888888888,
              "#fdca26"
             ],
             [
              1,
              "#f0f921"
             ]
            ],
            "type": "surface"
           }
          ],
          "table": [
           {
            "cells": {
             "fill": {
              "color": "#EBF0F8"
             },
             "line": {
              "color": "white"
             }
            },
            "header": {
             "fill": {
              "color": "#C8D4E3"
             },
             "line": {
              "color": "white"
             }
            },
            "type": "table"
           }
          ]
         },
         "layout": {
          "annotationdefaults": {
           "arrowcolor": "#2a3f5f",
           "arrowhead": 0,
           "arrowwidth": 1
          },
          "autotypenumbers": "strict",
          "coloraxis": {
           "colorbar": {
            "outlinewidth": 0,
            "ticks": ""
           }
          },
          "colorscale": {
           "diverging": [
            [
             0,
             "#8e0152"
            ],
            [
             0.1,
             "#c51b7d"
            ],
            [
             0.2,
             "#de77ae"
            ],
            [
             0.3,
             "#f1b6da"
            ],
            [
             0.4,
             "#fde0ef"
            ],
            [
             0.5,
             "#f7f7f7"
            ],
            [
             0.6,
             "#e6f5d0"
            ],
            [
             0.7,
             "#b8e186"
            ],
            [
             0.8,
             "#7fbc41"
            ],
            [
             0.9,
             "#4d9221"
            ],
            [
             1,
             "#276419"
            ]
           ],
           "sequential": [
            [
             0,
             "#0d0887"
            ],
            [
             0.1111111111111111,
             "#46039f"
            ],
            [
             0.2222222222222222,
             "#7201a8"
            ],
            [
             0.3333333333333333,
             "#9c179e"
            ],
            [
             0.4444444444444444,
             "#bd3786"
            ],
            [
             0.5555555555555556,
             "#d8576b"
            ],
            [
             0.6666666666666666,
             "#ed7953"
            ],
            [
             0.7777777777777778,
             "#fb9f3a"
            ],
            [
             0.8888888888888888,
             "#fdca26"
            ],
            [
             1,
             "#f0f921"
            ]
           ],
           "sequentialminus": [
            [
             0,
             "#0d0887"
            ],
            [
             0.1111111111111111,
             "#46039f"
            ],
            [
             0.2222222222222222,
             "#7201a8"
            ],
            [
             0.3333333333333333,
             "#9c179e"
            ],
            [
             0.4444444444444444,
             "#bd3786"
            ],
            [
             0.5555555555555556,
             "#d8576b"
            ],
            [
             0.6666666666666666,
             "#ed7953"
            ],
            [
             0.7777777777777778,
             "#fb9f3a"
            ],
            [
             0.8888888888888888,
             "#fdca26"
            ],
            [
             1,
             "#f0f921"
            ]
           ]
          },
          "colorway": [
           "#636efa",
           "#EF553B",
           "#00cc96",
           "#ab63fa",
           "#FFA15A",
           "#19d3f3",
           "#FF6692",
           "#B6E880",
           "#FF97FF",
           "#FECB52"
          ],
          "font": {
           "color": "#2a3f5f"
          },
          "geo": {
           "bgcolor": "white",
           "lakecolor": "white",
           "landcolor": "#E5ECF6",
           "showlakes": true,
           "showland": true,
           "subunitcolor": "white"
          },
          "hoverlabel": {
           "align": "left"
          },
          "hovermode": "closest",
          "mapbox": {
           "style": "light"
          },
          "paper_bgcolor": "white",
          "plot_bgcolor": "#E5ECF6",
          "polar": {
           "angularaxis": {
            "gridcolor": "white",
            "linecolor": "white",
            "ticks": ""
           },
           "bgcolor": "#E5ECF6",
           "radialaxis": {
            "gridcolor": "white",
            "linecolor": "white",
            "ticks": ""
           }
          },
          "scene": {
           "xaxis": {
            "backgroundcolor": "#E5ECF6",
            "gridcolor": "white",
            "gridwidth": 2,
            "linecolor": "white",
            "showbackground": true,
            "ticks": "",
            "zerolinecolor": "white"
           },
           "yaxis": {
            "backgroundcolor": "#E5ECF6",
            "gridcolor": "white",
            "gridwidth": 2,
            "linecolor": "white",
            "showbackground": true,
            "ticks": "",
            "zerolinecolor": "white"
           },
           "zaxis": {
            "backgroundcolor": "#E5ECF6",
            "gridcolor": "white",
            "gridwidth": 2,
            "linecolor": "white",
            "showbackground": true,
            "ticks": "",
            "zerolinecolor": "white"
           }
          },
          "shapedefaults": {
           "line": {
            "color": "#2a3f5f"
           }
          },
          "ternary": {
           "aaxis": {
            "gridcolor": "white",
            "linecolor": "white",
            "ticks": ""
           },
           "baxis": {
            "gridcolor": "white",
            "linecolor": "white",
            "ticks": ""
           },
           "bgcolor": "#E5ECF6",
           "caxis": {
            "gridcolor": "white",
            "linecolor": "white",
            "ticks": ""
           }
          },
          "title": {
           "x": 0.05
          },
          "xaxis": {
           "automargin": true,
           "gridcolor": "white",
           "linecolor": "white",
           "ticks": "",
           "title": {
            "standoff": 15
           },
           "zerolinecolor": "white",
           "zerolinewidth": 2
          },
          "yaxis": {
           "automargin": true,
           "gridcolor": "white",
           "linecolor": "white",
           "ticks": "",
           "title": {
            "standoff": 15
           },
           "zerolinecolor": "white",
           "zerolinewidth": 2
          }
         }
        },
        "title": {
         "text": "Evolution of Petrol Imports from the USA over the recent periods",
         "x": 0.5
        },
        "xaxis": {
         "anchor": "y",
         "domain": [
          0,
          1
         ],
         "dtick": 1,
         "showgrid": false,
         "title": {
          "text": "Period"
         }
        },
        "yaxis": {
         "anchor": "x",
         "domain": [
          0,
          1
         ],
         "gridcolor": "rgba(173, 216, 230, 0.5)",
         "showgrid": true,
         "tickformat": ",",
         "title": {
          "text": "USD millions"
         }
        }
       }
      }
     },
     "metadata": {},
     "output_type": "display_data"
    }
   ],
   "source": [
    "def plot_imports(country, commodity_code):\n",
    "    import_flows = filter_trades_world(country, commodity_code, 'Import')\n",
    "    figure = px.line(import_flows, x='Period', y='Trade Value (M $)', title=f'Evolution of {commodity_code} exports from {country} over the recent period')\n",
    "    \n",
    "    figure = px.line(import_flows, x='Period', y='Trade Value (M $)',\n",
    "                 title=f'Evolution of Petrol Imports from the USA over the recent periods',\n",
    "                 line_shape='linear',\n",
    "                 markers=True, \n",
    "                 color_discrete_sequence=['darkred']  \n",
    ")   \n",
    "    figure.update_layout(\n",
    "        title={'x': 0.5},  \n",
    "        font_color='darkblue',  \n",
    "        plot_bgcolor='white',  \n",
    "        yaxis=dict(title=\"USD millions\", tickformat=',', showgrid=True, gridcolor='rgba(173, 216, 230, 0.5)'),\n",
    "        xaxis = dict(showgrid=False,dtick=1)\n",
    "    )\n",
    "    # i want the x ticks to contain all the years from 2012 to 2024\n",
    "    figure.update_traces(marker=dict(size=10, color='darkred', symbol='circle')) \n",
    "    return figure\n",
    "plot_imports('USA',2709)"
   ]
  },
  {
   "cell_type": "code",
   "execution_count": 10,
   "metadata": {},
   "outputs": [
    {
     "data": {
      "application/vnd.plotly.v1+json": {
       "config": {
        "plotlyServerURL": "https://plot.ly"
       },
       "data": [
        {
         "marker": {
          "color": "green"
         },
         "name": "2709 Exports",
         "type": "bar",
         "width": 0.3,
         "x": [
          2012,
          2013,
          2014,
          2015,
          2016,
          2017,
          2018,
          2019,
          2020,
          2021,
          2022,
          2023
         ],
         "y": [
          2633.51,
          5099.46,
          12309.09,
          8768.74,
          9462.12,
          22502.17,
          48261.57,
          65323.19,
          50285.96,
          69356.11,
          117034.46,
          117160.52
         ]
        },
        {
         "marker": {
          "color": "red"
         },
         "name": "2709 Imports",
         "type": "bar",
         "width": 0.3,
         "x": [
          2012,
          2013,
          2014,
          2015,
          2016,
          2017,
          2018,
          2019,
          2020,
          2021,
          2022,
          2023
         ],
         "y": [
          -322024.5,
          -279485.06,
          -253228.7,
          -132593.22,
          -108092.13,
          -139287.63,
          -162801.5,
          -132370.66,
          -81629.6,
          -138383.9,
          -204715.57,
          -172426.22
         ]
        },
        {
         "line": {
          "color": "black",
          "width": 4
         },
         "mode": "lines",
         "name": "Balance",
         "type": "scatter",
         "x": [
          2012,
          2013,
          2014,
          2015,
          2016,
          2017,
          2018,
          2019,
          2020,
          2021,
          2022,
          2023
         ],
         "y": [
          -319390.99,
          -274385.6,
          -240919.61000000002,
          -123824.48,
          -98630.01000000001,
          -116785.46,
          -114539.93,
          -67047.47,
          -31343.640000000007,
          -69027.79,
          -87681.11,
          -55265.7
         ]
        }
       ],
       "layout": {
        "barmode": "overlay",
        "height": 600,
        "legend": {
         "orientation": "h",
         "title": {
          "text": ""
         },
         "x": 1,
         "xanchor": "right",
         "y": 1.02,
         "yanchor": "bottom"
        },
        "plot_bgcolor": "white",
        "template": {
         "data": {
          "bar": [
           {
            "error_x": {
             "color": "#2a3f5f"
            },
            "error_y": {
             "color": "#2a3f5f"
            },
            "marker": {
             "line": {
              "color": "#E5ECF6",
              "width": 0.5
             },
             "pattern": {
              "fillmode": "overlay",
              "size": 10,
              "solidity": 0.2
             }
            },
            "type": "bar"
           }
          ],
          "barpolar": [
           {
            "marker": {
             "line": {
              "color": "#E5ECF6",
              "width": 0.5
             },
             "pattern": {
              "fillmode": "overlay",
              "size": 10,
              "solidity": 0.2
             }
            },
            "type": "barpolar"
           }
          ],
          "carpet": [
           {
            "aaxis": {
             "endlinecolor": "#2a3f5f",
             "gridcolor": "white",
             "linecolor": "white",
             "minorgridcolor": "white",
             "startlinecolor": "#2a3f5f"
            },
            "baxis": {
             "endlinecolor": "#2a3f5f",
             "gridcolor": "white",
             "linecolor": "white",
             "minorgridcolor": "white",
             "startlinecolor": "#2a3f5f"
            },
            "type": "carpet"
           }
          ],
          "choropleth": [
           {
            "colorbar": {
             "outlinewidth": 0,
             "ticks": ""
            },
            "type": "choropleth"
           }
          ],
          "contour": [
           {
            "colorbar": {
             "outlinewidth": 0,
             "ticks": ""
            },
            "colorscale": [
             [
              0,
              "#0d0887"
             ],
             [
              0.1111111111111111,
              "#46039f"
             ],
             [
              0.2222222222222222,
              "#7201a8"
             ],
             [
              0.3333333333333333,
              "#9c179e"
             ],
             [
              0.4444444444444444,
              "#bd3786"
             ],
             [
              0.5555555555555556,
              "#d8576b"
             ],
             [
              0.6666666666666666,
              "#ed7953"
             ],
             [
              0.7777777777777778,
              "#fb9f3a"
             ],
             [
              0.8888888888888888,
              "#fdca26"
             ],
             [
              1,
              "#f0f921"
             ]
            ],
            "type": "contour"
           }
          ],
          "contourcarpet": [
           {
            "colorbar": {
             "outlinewidth": 0,
             "ticks": ""
            },
            "type": "contourcarpet"
           }
          ],
          "heatmap": [
           {
            "colorbar": {
             "outlinewidth": 0,
             "ticks": ""
            },
            "colorscale": [
             [
              0,
              "#0d0887"
             ],
             [
              0.1111111111111111,
              "#46039f"
             ],
             [
              0.2222222222222222,
              "#7201a8"
             ],
             [
              0.3333333333333333,
              "#9c179e"
             ],
             [
              0.4444444444444444,
              "#bd3786"
             ],
             [
              0.5555555555555556,
              "#d8576b"
             ],
             [
              0.6666666666666666,
              "#ed7953"
             ],
             [
              0.7777777777777778,
              "#fb9f3a"
             ],
             [
              0.8888888888888888,
              "#fdca26"
             ],
             [
              1,
              "#f0f921"
             ]
            ],
            "type": "heatmap"
           }
          ],
          "heatmapgl": [
           {
            "colorbar": {
             "outlinewidth": 0,
             "ticks": ""
            },
            "colorscale": [
             [
              0,
              "#0d0887"
             ],
             [
              0.1111111111111111,
              "#46039f"
             ],
             [
              0.2222222222222222,
              "#7201a8"
             ],
             [
              0.3333333333333333,
              "#9c179e"
             ],
             [
              0.4444444444444444,
              "#bd3786"
             ],
             [
              0.5555555555555556,
              "#d8576b"
             ],
             [
              0.6666666666666666,
              "#ed7953"
             ],
             [
              0.7777777777777778,
              "#fb9f3a"
             ],
             [
              0.8888888888888888,
              "#fdca26"
             ],
             [
              1,
              "#f0f921"
             ]
            ],
            "type": "heatmapgl"
           }
          ],
          "histogram": [
           {
            "marker": {
             "pattern": {
              "fillmode": "overlay",
              "size": 10,
              "solidity": 0.2
             }
            },
            "type": "histogram"
           }
          ],
          "histogram2d": [
           {
            "colorbar": {
             "outlinewidth": 0,
             "ticks": ""
            },
            "colorscale": [
             [
              0,
              "#0d0887"
             ],
             [
              0.1111111111111111,
              "#46039f"
             ],
             [
              0.2222222222222222,
              "#7201a8"
             ],
             [
              0.3333333333333333,
              "#9c179e"
             ],
             [
              0.4444444444444444,
              "#bd3786"
             ],
             [
              0.5555555555555556,
              "#d8576b"
             ],
             [
              0.6666666666666666,
              "#ed7953"
             ],
             [
              0.7777777777777778,
              "#fb9f3a"
             ],
             [
              0.8888888888888888,
              "#fdca26"
             ],
             [
              1,
              "#f0f921"
             ]
            ],
            "type": "histogram2d"
           }
          ],
          "histogram2dcontour": [
           {
            "colorbar": {
             "outlinewidth": 0,
             "ticks": ""
            },
            "colorscale": [
             [
              0,
              "#0d0887"
             ],
             [
              0.1111111111111111,
              "#46039f"
             ],
             [
              0.2222222222222222,
              "#7201a8"
             ],
             [
              0.3333333333333333,
              "#9c179e"
             ],
             [
              0.4444444444444444,
              "#bd3786"
             ],
             [
              0.5555555555555556,
              "#d8576b"
             ],
             [
              0.6666666666666666,
              "#ed7953"
             ],
             [
              0.7777777777777778,
              "#fb9f3a"
             ],
             [
              0.8888888888888888,
              "#fdca26"
             ],
             [
              1,
              "#f0f921"
             ]
            ],
            "type": "histogram2dcontour"
           }
          ],
          "mesh3d": [
           {
            "colorbar": {
             "outlinewidth": 0,
             "ticks": ""
            },
            "type": "mesh3d"
           }
          ],
          "parcoords": [
           {
            "line": {
             "colorbar": {
              "outlinewidth": 0,
              "ticks": ""
             }
            },
            "type": "parcoords"
           }
          ],
          "pie": [
           {
            "automargin": true,
            "type": "pie"
           }
          ],
          "scatter": [
           {
            "fillpattern": {
             "fillmode": "overlay",
             "size": 10,
             "solidity": 0.2
            },
            "type": "scatter"
           }
          ],
          "scatter3d": [
           {
            "line": {
             "colorbar": {
              "outlinewidth": 0,
              "ticks": ""
             }
            },
            "marker": {
             "colorbar": {
              "outlinewidth": 0,
              "ticks": ""
             }
            },
            "type": "scatter3d"
           }
          ],
          "scattercarpet": [
           {
            "marker": {
             "colorbar": {
              "outlinewidth": 0,
              "ticks": ""
             }
            },
            "type": "scattercarpet"
           }
          ],
          "scattergeo": [
           {
            "marker": {
             "colorbar": {
              "outlinewidth": 0,
              "ticks": ""
             }
            },
            "type": "scattergeo"
           }
          ],
          "scattergl": [
           {
            "marker": {
             "colorbar": {
              "outlinewidth": 0,
              "ticks": ""
             }
            },
            "type": "scattergl"
           }
          ],
          "scattermapbox": [
           {
            "marker": {
             "colorbar": {
              "outlinewidth": 0,
              "ticks": ""
             }
            },
            "type": "scattermapbox"
           }
          ],
          "scatterpolar": [
           {
            "marker": {
             "colorbar": {
              "outlinewidth": 0,
              "ticks": ""
             }
            },
            "type": "scatterpolar"
           }
          ],
          "scatterpolargl": [
           {
            "marker": {
             "colorbar": {
              "outlinewidth": 0,
              "ticks": ""
             }
            },
            "type": "scatterpolargl"
           }
          ],
          "scatterternary": [
           {
            "marker": {
             "colorbar": {
              "outlinewidth": 0,
              "ticks": ""
             }
            },
            "type": "scatterternary"
           }
          ],
          "surface": [
           {
            "colorbar": {
             "outlinewidth": 0,
             "ticks": ""
            },
            "colorscale": [
             [
              0,
              "#0d0887"
             ],
             [
              0.1111111111111111,
              "#46039f"
             ],
             [
              0.2222222222222222,
              "#7201a8"
             ],
             [
              0.3333333333333333,
              "#9c179e"
             ],
             [
              0.4444444444444444,
              "#bd3786"
             ],
             [
              0.5555555555555556,
              "#d8576b"
             ],
             [
              0.6666666666666666,
              "#ed7953"
             ],
             [
              0.7777777777777778,
              "#fb9f3a"
             ],
             [
              0.8888888888888888,
              "#fdca26"
             ],
             [
              1,
              "#f0f921"
             ]
            ],
            "type": "surface"
           }
          ],
          "table": [
           {
            "cells": {
             "fill": {
              "color": "#EBF0F8"
             },
             "line": {
              "color": "white"
             }
            },
            "header": {
             "fill": {
              "color": "#C8D4E3"
             },
             "line": {
              "color": "white"
             }
            },
            "type": "table"
           }
          ]
         },
         "layout": {
          "annotationdefaults": {
           "arrowcolor": "#2a3f5f",
           "arrowhead": 0,
           "arrowwidth": 1
          },
          "autotypenumbers": "strict",
          "coloraxis": {
           "colorbar": {
            "outlinewidth": 0,
            "ticks": ""
           }
          },
          "colorscale": {
           "diverging": [
            [
             0,
             "#8e0152"
            ],
            [
             0.1,
             "#c51b7d"
            ],
            [
             0.2,
             "#de77ae"
            ],
            [
             0.3,
             "#f1b6da"
            ],
            [
             0.4,
             "#fde0ef"
            ],
            [
             0.5,
             "#f7f7f7"
            ],
            [
             0.6,
             "#e6f5d0"
            ],
            [
             0.7,
             "#b8e186"
            ],
            [
             0.8,
             "#7fbc41"
            ],
            [
             0.9,
             "#4d9221"
            ],
            [
             1,
             "#276419"
            ]
           ],
           "sequential": [
            [
             0,
             "#0d0887"
            ],
            [
             0.1111111111111111,
             "#46039f"
            ],
            [
             0.2222222222222222,
             "#7201a8"
            ],
            [
             0.3333333333333333,
             "#9c179e"
            ],
            [
             0.4444444444444444,
             "#bd3786"
            ],
            [
             0.5555555555555556,
             "#d8576b"
            ],
            [
             0.6666666666666666,
             "#ed7953"
            ],
            [
             0.7777777777777778,
             "#fb9f3a"
            ],
            [
             0.8888888888888888,
             "#fdca26"
            ],
            [
             1,
             "#f0f921"
            ]
           ],
           "sequentialminus": [
            [
             0,
             "#0d0887"
            ],
            [
             0.1111111111111111,
             "#46039f"
            ],
            [
             0.2222222222222222,
             "#7201a8"
            ],
            [
             0.3333333333333333,
             "#9c179e"
            ],
            [
             0.4444444444444444,
             "#bd3786"
            ],
            [
             0.5555555555555556,
             "#d8576b"
            ],
            [
             0.6666666666666666,
             "#ed7953"
            ],
            [
             0.7777777777777778,
             "#fb9f3a"
            ],
            [
             0.8888888888888888,
             "#fdca26"
            ],
            [
             1,
             "#f0f921"
            ]
           ]
          },
          "colorway": [
           "#636efa",
           "#EF553B",
           "#00cc96",
           "#ab63fa",
           "#FFA15A",
           "#19d3f3",
           "#FF6692",
           "#B6E880",
           "#FF97FF",
           "#FECB52"
          ],
          "font": {
           "color": "#2a3f5f"
          },
          "geo": {
           "bgcolor": "white",
           "lakecolor": "white",
           "landcolor": "#E5ECF6",
           "showlakes": true,
           "showland": true,
           "subunitcolor": "white"
          },
          "hoverlabel": {
           "align": "left"
          },
          "hovermode": "closest",
          "mapbox": {
           "style": "light"
          },
          "paper_bgcolor": "white",
          "plot_bgcolor": "#E5ECF6",
          "polar": {
           "angularaxis": {
            "gridcolor": "white",
            "linecolor": "white",
            "ticks": ""
           },
           "bgcolor": "#E5ECF6",
           "radialaxis": {
            "gridcolor": "white",
            "linecolor": "white",
            "ticks": ""
           }
          },
          "scene": {
           "xaxis": {
            "backgroundcolor": "#E5ECF6",
            "gridcolor": "white",
            "gridwidth": 2,
            "linecolor": "white",
            "showbackground": true,
            "ticks": "",
            "zerolinecolor": "white"
           },
           "yaxis": {
            "backgroundcolor": "#E5ECF6",
            "gridcolor": "white",
            "gridwidth": 2,
            "linecolor": "white",
            "showbackground": true,
            "ticks": "",
            "zerolinecolor": "white"
           },
           "zaxis": {
            "backgroundcolor": "#E5ECF6",
            "gridcolor": "white",
            "gridwidth": 2,
            "linecolor": "white",
            "showbackground": true,
            "ticks": "",
            "zerolinecolor": "white"
           }
          },
          "shapedefaults": {
           "line": {
            "color": "#2a3f5f"
           }
          },
          "ternary": {
           "aaxis": {
            "gridcolor": "white",
            "linecolor": "white",
            "ticks": ""
           },
           "baxis": {
            "gridcolor": "white",
            "linecolor": "white",
            "ticks": ""
           },
           "bgcolor": "#E5ECF6",
           "caxis": {
            "gridcolor": "white",
            "linecolor": "white",
            "ticks": ""
           }
          },
          "title": {
           "x": 0.05
          },
          "xaxis": {
           "automargin": true,
           "gridcolor": "white",
           "linecolor": "white",
           "ticks": "",
           "title": {
            "standoff": 15
           },
           "zerolinecolor": "white",
           "zerolinewidth": 2
          },
          "yaxis": {
           "automargin": true,
           "gridcolor": "white",
           "linecolor": "white",
           "ticks": "",
           "title": {
            "standoff": 15
           },
           "zerolinecolor": "white",
           "zerolinewidth": 2
          }
         }
        },
        "title": {
         "text": "2709 balance for USA over the recent periods",
         "x": 0.5
        },
        "width": 1000,
        "xaxis": {
         "dtick": 1,
         "showgrid": false,
         "title": {
          "text": "Year"
         }
        },
        "yaxis": {
         "gridcolor": "rgba(173, 216, 230, 0.5)",
         "showline": true,
         "title": {
          "text": "Million $"
         },
         "zeroline": true,
         "zerolinecolor": "black"
        }
       }
      }
     },
     "metadata": {},
     "output_type": "display_data"
    }
   ],
   "source": [
    "def commodity_balance(country, commodity_code) :\n",
    "    exports = filter_trades_world('USA',commodity_code,'Export') \n",
    "    imports = filter_trades_world('USA',commodity_code,'Import')\n",
    "    balance = exports[['Period','Trade Value (M $)']].set_index('Period')\n",
    "    balance = balance.rename(columns={'Trade Value (M $)':'Exports Value (M $)'})\n",
    "    balance = balance.join(imports[['Period','Trade Value (M $)']].set_index('Period'), how='outer')\n",
    "    balance = balance.rename(columns={'Trade Value (M $)': 'Imports Value (M $)'})\n",
    "    balance['Trade Balance (M $)'] = balance['Exports Value (M $)'] - balance['Imports Value (M $)'] \n",
    "    \n",
    "    fig = go.Figure()\n",
    "    fig.add_trace(go.Bar(x=balance.index,y=balance['Exports Value (M $)'],name=f'{commodity_code} Exports',\n",
    "        marker_color='green',width=0.3))\n",
    "    fig.add_trace(go.Bar(x=balance.index,y=-balance['Imports Value (M $)'], name=f'{commodity_code} Imports',\n",
    "        marker_color='red',width=0.3))\n",
    "    fig.add_trace(go.Scatter( x=balance.index,y=balance['Trade Balance (M $)'],mode='lines',name='Balance',\n",
    "       line=dict(color='black', width=4)\n",
    "    ))\n",
    "    fig.update_layout(width=1000,height=600,title=f'{commodity_code} balance for {country} over the recent periods',title_x=0.5,yaxis_title='Million $', plot_bgcolor='white',\n",
    "        xaxis=dict(title='Year', showgrid=False, dtick=1),\n",
    "        yaxis=dict(gridcolor='rgba(173, 216, 230, 0.5)', showline=True,zeroline=True,zerolinecolor='black'),\n",
    "        legend=dict(title=\"\",orientation=\"h\",yanchor=\"bottom\",y=1.02,xanchor=\"right\",x=1),\n",
    "        barmode='overlay')\n",
    "    return fig\n",
    "\n",
    "commodity_balance('USA',2709)\n",
    "        "
   ]
  },
  {
   "cell_type": "markdown",
   "metadata": {},
   "source": [
    "#### Add dynamic choropleth map "
   ]
  },
  {
   "cell_type": "code",
   "execution_count": 15,
   "metadata": {},
   "outputs": [
    {
     "name": "stderr",
     "output_type": "stream",
     "text": [
      "C:\\Users\\Admin\\AppData\\Local\\Temp\\ipykernel_29236\\4014582146.py:7: SettingWithCopyWarning: \n",
      "A value is trying to be set on a copy of a slice from a DataFrame.\n",
      "Try using .loc[row_indexer,col_indexer] = value instead\n",
      "\n",
      "See the caveats in the documentation: https://pandas.pydata.org/pandas-docs/stable/user_guide/indexing.html#returning-a-view-versus-a-copy\n",
      "  flows['Share of Exports (%)'] = flows.apply(lambda row: round((row['Trade Value (M $)'] / total_export_trades.get(row['Period'], 1)) * 100,2), axis=1)\n"
     ]
    },
    {
     "data": {
      "application/vnd.plotly.v1+json": {
       "config": {
        "plotlyServerURL": "https://plot.ly"
       },
       "data": [
        {
         "coloraxis": "coloraxis",
         "customdata": [
          [
           100,
           2012
          ]
         ],
         "geo": "geo",
         "hovertemplate": "<b>%{hovertext}</b><br><br>Partner=%{location}<br>Export Share (%)=%{z}<extra></extra>",
         "hovertext": [
          "Canada"
         ],
         "locationmode": "country names",
         "locations": [
          "Canada"
         ],
         "name": "",
         "type": "choropleth",
         "z": [
          100
         ]
        }
       ],
       "frames": [
        {
         "data": [
          {
           "coloraxis": "coloraxis",
           "customdata": [
            [
             100,
             2012
            ]
           ],
           "geo": "geo",
           "hovertemplate": "<b>%{hovertext}</b><br><br>Partner=%{location}<br>Export Share (%)=%{z}<extra></extra>",
           "hovertext": [
            "Canada"
           ],
           "locationmode": "country names",
           "locations": [
            "Canada"
           ],
           "name": "",
           "type": "choropleth",
           "z": [
            100
           ]
          }
         ],
         "name": "2012"
        },
        {
         "data": [
          {
           "coloraxis": "coloraxis",
           "customdata": [
            [
             99.47,
             2013
            ],
            [
             0.53,
             2013
            ]
           ],
           "geo": "geo",
           "hovertemplate": "<b>%{hovertext}</b><br><br>Partner=%{location}<br>Export Share (%)=%{z}<extra></extra>",
           "hovertext": [
            "Canada",
            "China"
           ],
           "locationmode": "country names",
           "locations": [
            "Canada",
            "China"
           ],
           "name": "",
           "type": "choropleth",
           "z": [
            99.47,
            0.53
           ]
          }
         ],
         "name": "2013"
        },
        {
         "data": [
          {
           "coloraxis": "coloraxis",
           "customdata": [
            [
             94.76,
             2014
            ],
            [
             0.17,
             2014
            ],
            [
             0.08,
             2014
            ],
            [
             0.75,
             2014
            ],
            [
             0.6,
             2014
            ],
            [
             0.49,
             2014
            ],
            [
             0.73,
             2014
            ],
            [
             2.41,
             2014
            ]
           ],
           "geo": "geo",
           "hovertemplate": "<b>%{hovertext}</b><br><br>Partner=%{location}<br>Export Share (%)=%{z}<extra></extra>",
           "hovertext": [
            "Canada",
            "China",
            "Germany",
            "Italy",
            "Rep. of Korea",
            "Singapore",
            "Spain",
            "Switzerland"
           ],
           "locationmode": "country names",
           "locations": [
            "Canada",
            "China",
            "Germany",
            "Italy",
            "Rep. of Korea",
            "Singapore",
            "Spain",
            "Switzerland"
           ],
           "name": "",
           "type": "choropleth",
           "z": [
            94.76,
            0.17,
            0.08,
            0.75,
            0.6,
            0.49,
            0.73,
            2.41
           ]
          }
         ],
         "name": "2014"
        },
        {
         "data": [
          {
           "coloraxis": "coloraxis",
           "customdata": [
            [
             0.4,
             2015
            ],
            [
             92.42,
             2015
            ],
            [
             0.18,
             2015
            ],
            [
             0.33,
             2015
            ],
            [
             0.87,
             2015
            ],
            [
             0.66,
             2015
            ],
            [
             1.09,
             2015
            ],
            [
             0.2,
             2015
            ],
            [
             1.15,
             2015
            ],
            [
             2.71,
             2015
            ]
           ],
           "geo": "geo",
           "hovertemplate": "<b>%{hovertext}</b><br><br>Partner=%{location}<br>Export Share (%)=%{z}<extra></extra>",
           "hovertext": [
            "Brazil",
            "Canada",
            "China",
            "France",
            "Italy",
            "Rep. of Korea",
            "Netherlands",
            "India",
            "Spain",
            "Switzerland"
           ],
           "locationmode": "country names",
           "locations": [
            "Brazil",
            "Canada",
            "China",
            "France",
            "Italy",
            "Rep. of Korea",
            "Netherlands",
            "India",
            "Spain",
            "Switzerland"
           ],
           "name": "",
           "type": "choropleth",
           "z": [
            0.4,
            92.42,
            0.18,
            0.33,
            0.87,
            0.66,
            1.09,
            0.2,
            1.15,
            2.71
           ]
          }
         ],
         "name": "2015"
        },
        {
         "data": [
          {
           "coloraxis": "coloraxis",
           "customdata": [
            [
             0.3,
             2016
            ],
            [
             0.37,
             2016
            ],
            [
             0.08,
             2016
            ],
            [
             59.55,
             2016
            ],
            [
             3.81,
             2016
            ],
            [
             1.79,
             2016
            ],
            [
             0.16,
             2016
            ],
            [
             1.29,
             2016
            ],
            [
             0.26,
             2016
            ],
            [
             0.3,
             2016
            ],
            [
             3.76,
             2016
            ],
            [
             1.45,
             2016
            ],
            [
             1.58,
             2016
            ],
            [
             8.3,
             2016
            ],
            [
             5.25,
             2016
            ],
            [
             0.83,
             2016
            ],
            [
             0.24,
             2016
            ],
            [
             0.21,
             2016
            ],
            [
             0.51,
             2016
            ],
            [
             0.05,
             2016
            ],
            [
             1.34,
             2016
            ],
            [
             2.3,
             2016
            ],
            [
             0.18,
             2016
            ],
            [
             1.21,
             2016
            ],
            [
             2.41,
             2016
            ],
            [
             0.88,
             2016
            ],
            [
             1.56,
             2016
            ]
           ],
           "geo": "geo",
           "hovertemplate": "<b>%{hovertext}</b><br><br>Partner=%{location}<br>Export Share (%)=%{z}<extra></extra>",
           "hovertext": [
            "Argentina",
            "Bahamas",
            "Brazil",
            "Canada",
            "China",
            "Colombia",
            "Dominican Rep.",
            "France",
            "Greece",
            "Israel",
            "Italy",
            "Japan",
            "Rep. of Korea",
            "Netherlands",
            "Curaçao",
            "Nicaragua",
            "Nigeria",
            "Marshall Isds",
            "Panama",
            "Papua New Guinea",
            "Peru",
            "Singapore",
            "South Africa",
            "Spain",
            "Switzerland",
            "Thailand",
            "United Kingdom"
           ],
           "locationmode": "country names",
           "locations": [
            "Argentina",
            "Bahamas",
            "Brazil",
            "Canada",
            "China",
            "Colombia",
            "Dominican Rep.",
            "France",
            "Greece",
            "Israel",
            "Italy",
            "Japan",
            "Rep. of Korea",
            "Netherlands",
            "Curaçao",
            "Nicaragua",
            "Nigeria",
            "Marshall Isds",
            "Panama",
            "Papua New Guinea",
            "Peru",
            "Singapore",
            "South Africa",
            "Spain",
            "Switzerland",
            "Thailand",
            "United Kingdom"
           ],
           "name": "",
           "type": "choropleth",
           "z": [
            0.3,
            0.37,
            0.08,
            59.55,
            3.81,
            1.79,
            0.16,
            1.29,
            0.26,
            0.3,
            3.76,
            1.45,
            1.58,
            8.3,
            5.25,
            0.83,
            0.24,
            0.21,
            0.51,
            0.05,
            1.34,
            2.3,
            0.18,
            1.21,
            2.41,
            0.88,
            1.56
           ]
          }
         ],
         "name": "2016"
        },
        {
         "data": [
          {
           "coloraxis": "coloraxis",
           "customdata": [
            [
             0.59,
             2017
            ],
            [
             1.58,
             2017
            ],
            [
             0.98,
             2017
            ],
            [
             0.12,
             2017
            ],
            [
             29.68,
             2017
            ],
            [
             19.46,
             2017
            ],
            [
             1.65,
             2017
            ],
            [
             0.16,
             2017
            ],
            [
             0.21,
             2017
            ],
            [
             2.61,
             2017
            ],
            [
             0.01,
             2017
            ],
            [
             0.07,
             2017
            ],
            [
             0.49,
             2017
            ],
            [
             4.39,
             2017
            ],
            [
             2.24,
             2017
            ],
            [
             4.95,
             2017
            ],
            [
             1.63,
             2017
            ],
            [
             1.57,
             2017
            ],
            [
             8.02,
             2017
            ],
            [
             0.95,
             2017
            ],
            [
             0.2,
             2017
            ],
            [
             0.36,
             2017
            ],
            [
             0.15,
             2017
            ],
            [
             0.39,
             2017
            ],
            [
             0.14,
             2017
            ],
            [
             2.14,
             2017
            ],
            [
             2.01,
             2017
            ],
            [
             0.1,
             2017
            ],
            [
             1.81,
             2017
            ],
            [
             0.3,
             2017
            ],
            [
             1.38,
             2017
            ],
            [
             0.21,
             2017
            ],
            [
             0.12,
             2017
            ],
            [
             0.45,
             2017
            ],
            [
             0.13,
             2017
            ],
            [
             8.76,
             2017
            ]
           ],
           "geo": "geo",
           "hovertemplate": "<b>%{hovertext}</b><br><br>Partner=%{location}<br>Export Share (%)=%{z}<extra></extra>",
           "hovertext": [
            "Argentina",
            "Bahamas",
            "Brazil",
            "Br. Indian Ocean Terr.",
            "Canada",
            "China",
            "Colombia",
            "Denmark",
            "Dominican Rep.",
            "France",
            "Georgia",
            "Gibraltar",
            "China, Hong Kong SAR",
            "Italy",
            "Japan",
            "Rep. of Korea",
            "Malaysia",
            "Other Asia, nes",
            "Netherlands",
            "Curaçao",
            "Nicaragua",
            "Norway",
            "Panama",
            "Peru",
            "Poland",
            "India",
            "Singapore",
            "South Africa",
            "Spain",
            "Switzerland",
            "Thailand",
            "Togo",
            "Trinidad and Tobago",
            "United Arab Emirates",
            "Türkiye",
            "United Kingdom"
           ],
           "locationmode": "country names",
           "locations": [
            "Argentina",
            "Bahamas",
            "Brazil",
            "Br. Indian Ocean Terr.",
            "Canada",
            "China",
            "Colombia",
            "Denmark",
            "Dominican Rep.",
            "France",
            "Georgia",
            "Gibraltar",
            "China, Hong Kong SAR",
            "Italy",
            "Japan",
            "Rep. of Korea",
            "Malaysia",
            "Other Asia, nes",
            "Netherlands",
            "Curaçao",
            "Nicaragua",
            "Norway",
            "Panama",
            "Peru",
            "Poland",
            "India",
            "Singapore",
            "South Africa",
            "Spain",
            "Switzerland",
            "Thailand",
            "Togo",
            "Trinidad and Tobago",
            "United Arab Emirates",
            "Türkiye",
            "United Kingdom"
           ],
           "name": "",
           "type": "choropleth",
           "z": [
            0.59,
            1.58,
            0.98,
            0.12,
            29.68,
            19.46,
            1.65,
            0.16,
            0.21,
            2.61,
            0.01,
            0.07,
            0.49,
            4.39,
            2.24,
            4.95,
            1.63,
            1.57,
            8.02,
            0.95,
            0.2,
            0.36,
            0.15,
            0.39,
            0.14,
            2.14,
            2.01,
            0.1,
            1.81,
            0.3,
            1.38,
            0.21,
            0.12,
            0.45,
            0.13,
            8.76
           ]
          }
         ],
         "name": "2017"
        },
        {
         "data": [
          {
           "coloraxis": "coloraxis",
           "customdata": [
            [
             0.08,
             2018
            ],
            [
             0,
             2018
            ],
            [
             0.11,
             2018
            ],
            [
             1.32,
             2018
            ],
            [
             21.52,
             2018
            ],
            [
             0.58,
             2018
            ],
            [
             11.25,
             2018
            ],
            [
             1.16,
             2018
            ],
            [
             0.15,
             2018
            ],
            [
             0.7,
             2018
            ],
            [
             0.48,
             2018
            ],
            [
             1.19,
             2018
            ],
            [
             0.13,
             2018
            ],
            [
             0.07,
             2018
            ],
            [
             0.23,
             2018
            ],
            [
             0.69,
             2018
            ],
            [
             5.13,
             2018
            ],
            [
             3.07,
             2018
            ],
            [
             12.03,
             2018
            ],
            [
             0.91,
             2018
            ],
            [
             0.14,
             2018
            ],
            [
             6.82,
             2018
            ],
            [
             6.57,
             2018
            ],
            [
             0.35,
             2018
            ],
            [
             0.22,
             2018
            ],
            [
             1.63,
             2018
            ],
            [
             0.08,
             2018
            ],
            [
             0.35,
             2018
            ],
            [
             0.44,
             2018
            ],
            [
             0.27,
             2018
            ],
            [
             7.36,
             2018
            ],
            [
             1.91,
             2018
            ],
            [
             0.25,
             2018
            ],
            [
             1.08,
             2018
            ],
            [
             0.12,
             2018
            ],
            [
             0.22,
             2018
            ],
            [
             1.77,
             2018
            ],
            [
             1.39,
             2018
            ],
            [
             8.04,
             2018
            ],
            [
             0.19,
             2018
            ]
           ],
           "geo": "geo",
           "hovertemplate": "<b>%{hovertext}</b><br><br>Partner=%{location}<br>Export Share (%)=%{z}<extra></extra>",
           "hovertext": [
            "Argentina",
            "Australia",
            "Bahamas",
            "Brazil",
            "Canada",
            "Chile",
            "China",
            "Colombia",
            "Croatia",
            "Denmark",
            "Dominican Rep.",
            "France",
            "Germany",
            "Gibraltar",
            "Greece",
            "Ireland",
            "Italy",
            "Japan",
            "Rep. of Korea",
            "Malaysia",
            "Mexico",
            "Other Asia, nes",
            "Netherlands",
            "Curaçao",
            "Nicaragua",
            "Norway",
            "Panama",
            "Peru",
            "Poland",
            "Portugal",
            "India",
            "Singapore",
            "South Africa",
            "Spain",
            "Sweden",
            "Switzerland",
            "Thailand",
            "United Arab Emirates",
            "United Kingdom",
            "Uruguay"
           ],
           "locationmode": "country names",
           "locations": [
            "Argentina",
            "Australia",
            "Bahamas",
            "Brazil",
            "Canada",
            "Chile",
            "China",
            "Colombia",
            "Croatia",
            "Denmark",
            "Dominican Rep.",
            "France",
            "Germany",
            "Gibraltar",
            "Greece",
            "Ireland",
            "Italy",
            "Japan",
            "Rep. of Korea",
            "Malaysia",
            "Mexico",
            "Other Asia, nes",
            "Netherlands",
            "Curaçao",
            "Nicaragua",
            "Norway",
            "Panama",
            "Peru",
            "Poland",
            "Portugal",
            "India",
            "Singapore",
            "South Africa",
            "Spain",
            "Sweden",
            "Switzerland",
            "Thailand",
            "United Arab Emirates",
            "United Kingdom",
            "Uruguay"
           ],
           "name": "",
           "type": "choropleth",
           "z": [
            0.08,
            0,
            0.11,
            1.32,
            21.52,
            0.58,
            11.25,
            1.16,
            0.15,
            0.7,
            0.48,
            1.19,
            0.13,
            0.07,
            0.23,
            0.69,
            5.13,
            3.07,
            12.03,
            0.91,
            0.14,
            6.82,
            6.57,
            0.35,
            0.22,
            1.63,
            0.08,
            0.35,
            0.44,
            0.27,
            7.36,
            1.91,
            0.25,
            1.08,
            0.12,
            0.22,
            1.77,
            1.39,
            8.04,
            0.19
           ]
          }
         ],
         "name": "2018"
        },
        {
         "data": [
          {
           "coloraxis": "coloraxis",
           "customdata": [
            [
             0,
             2019
            ],
            [
             1.51,
             2019
            ],
            [
             0.14,
             2019
            ],
            [
             1.82,
             2019
            ],
            [
             0.05,
             2019
            ],
            [
             15.43,
             2019
            ],
            [
             1.28,
             2019
            ],
            [
             4.44,
             2019
            ],
            [
             0.63,
             2019
            ],
            [
             0.13,
             2019
            ],
            [
             1.1,
             2019
            ],
            [
             0.51,
             2019
            ],
            [
             2.77,
             2019
            ],
            [
             1.06,
             2019
            ],
            [
             0.45,
             2019
            ],
            [
             0.14,
             2019
            ],
            [
             1.45,
             2019
            ],
            [
             0.4,
             2019
            ],
            [
             4.12,
             2019
            ],
            [
             0.09,
             2019
            ],
            [
             1.74,
             2019
            ],
            [
             14.3,
             2019
            ],
            [
             0.06,
             2019
            ],
            [
             0.14,
             2019
            ],
            [
             0.04,
             2019
            ],
            [
             5.4,
             2019
            ],
            [
             9.38,
             2019
            ],
            [
             0.35,
             2019
            ],
            [
             0.84,
             2019
            ],
            [
             1.27,
             2019
            ],
            [
             0.96,
             2019
            ],
            [
             0.02,
             2019
            ],
            [
             0.49,
             2019
            ],
            [
             8.63,
             2019
            ],
            [
             2.83,
             2019
            ],
            [
             0.43,
             2019
            ],
            [
             0.11,
             2019
            ],
            [
             1.67,
             2019
            ],
            [
             0.17,
             2019
            ],
            [
             0.06,
             2019
            ],
            [
             3.67,
             2019
            ],
            [
             1.25,
             2019
            ],
            [
             8.12,
             2019
            ],
            [
             0.54,
             2019
            ]
           ],
           "geo": "geo",
           "hovertemplate": "<b>%{hovertext}</b><br><br>Partner=%{location}<br>Export Share (%)=%{z}<extra></extra>",
           "hovertext": [
            "Argentina",
            "Australia",
            "Belgium",
            "Brazil",
            "Bulgaria",
            "Canada",
            "Chile",
            "China",
            "Colombia",
            "Croatia",
            "Denmark",
            "Dominican Rep.",
            "France",
            "Germany",
            "Greece",
            "Indonesia",
            "Ireland",
            "Israel",
            "Italy",
            "Jamaica",
            "Japan",
            "Rep. of Korea",
            "Lithuania",
            "Malaysia",
            "Mexico",
            "Other Asia, nes",
            "Netherlands",
            "Nicaragua",
            "Norway",
            "Panama",
            "Peru",
            "Philippines",
            "Poland",
            "India",
            "Singapore",
            "Viet Nam",
            "South Africa",
            "Spain",
            "Sweden",
            "Switzerland",
            "Thailand",
            "United Arab Emirates",
            "United Kingdom",
            "Uruguay"
           ],
           "locationmode": "country names",
           "locations": [
            "Argentina",
            "Australia",
            "Belgium",
            "Brazil",
            "Bulgaria",
            "Canada",
            "Chile",
            "China",
            "Colombia",
            "Croatia",
            "Denmark",
            "Dominican Rep.",
            "France",
            "Germany",
            "Greece",
            "Indonesia",
            "Ireland",
            "Israel",
            "Italy",
            "Jamaica",
            "Japan",
            "Rep. of Korea",
            "Lithuania",
            "Malaysia",
            "Mexico",
            "Other Asia, nes",
            "Netherlands",
            "Nicaragua",
            "Norway",
            "Panama",
            "Peru",
            "Philippines",
            "Poland",
            "India",
            "Singapore",
            "Viet Nam",
            "South Africa",
            "Spain",
            "Sweden",
            "Switzerland",
            "Thailand",
            "United Arab Emirates",
            "United Kingdom",
            "Uruguay"
           ],
           "name": "",
           "type": "choropleth",
           "z": [
            0,
            1.51,
            0.14,
            1.82,
            0.05,
            15.43,
            1.28,
            4.44,
            0.63,
            0.13,
            1.1,
            0.51,
            2.77,
            1.06,
            0.45,
            0.14,
            1.45,
            0.4,
            4.12,
            0.09,
            1.74,
            14.3,
            0.06,
            0.14,
            0.04,
            5.4,
            9.38,
            0.35,
            0.84,
            1.27,
            0.96,
            0.02,
            0.49,
            8.63,
            2.83,
            0.43,
            0.11,
            1.67,
            0.17,
            0.06,
            3.67,
            1.25,
            8.12,
            0.54
           ]
          }
         ],
         "name": "2019"
        },
        {
         "data": [
          {
           "coloraxis": "coloraxis",
           "customdata": [
            [
             1.04,
             2020
            ],
            [
             0.45,
             2020
            ],
            [
             0.16,
             2020
            ],
            [
             1.12,
             2020
            ],
            [
             0.03,
             2020
            ],
            [
             12.99,
             2020
            ],
            [
             0.84,
             2020
            ],
            [
             13.44,
             2020
            ],
            [
             0.5,
             2020
            ],
            [
             0.08,
             2020
            ],
            [
             1.27,
             2020
            ],
            [
             0.32,
             2020
            ],
            [
             0.06,
             2020
            ],
            [
             2.49,
             2020
            ],
            [
             3.27,
             2020
            ],
            [
             0.04,
             2020
            ],
            [
             0.34,
             2020
            ],
            [
             0.49,
             2020
            ],
            [
             1.33,
             2020
            ],
            [
             0.42,
             2020
            ],
            [
             4.33,
             2020
            ],
            [
             0.5,
             2020
            ],
            [
             9.08,
             2020
            ],
            [
             0.18,
             2020
            ],
            [
             0.53,
             2020
            ],
            [
             0.01,
             2020
            ],
            [
             5.17,
             2020
            ],
            [
             9.05,
             2020
            ],
            [
             0.09,
             2020
            ],
            [
             0.33,
             2020
            ],
            [
             0.21,
             2020
            ],
            [
             0.02,
             2020
            ],
            [
             0.69,
             2020
            ],
            [
             0.68,
             2020
            ],
            [
             0.52,
             2020
            ],
            [
             0.22,
             2020
            ],
            [
             0.03,
             2020
            ],
            [
             8.62,
             2020
            ],
            [
             2.82,
             2020
            ],
            [
             0.55,
             2020
            ],
            [
             0.41,
             2020
            ],
            [
             2.13,
             2020
            ],
            [
             1.19,
             2020
            ],
            [
             0.14,
             2020
            ],
            [
             2.44,
             2020
            ],
            [
             0.77,
             2020
            ],
            [
             0.02,
             2020
            ],
            [
             8.07,
             2020
            ],
            [
             0.5,
             2020
            ]
           ],
           "geo": "geo",
           "hovertemplate": "<b>%{hovertext}</b><br><br>Partner=%{location}<br>Export Share (%)=%{z}<extra></extra>",
           "hovertext": [
            "Australia",
            "Bahamas",
            "Belgium",
            "Brazil",
            "Belarus",
            "Canada",
            "Chile",
            "China",
            "Colombia",
            "Croatia",
            "Denmark",
            "Dominican Rep.",
            "Finland",
            "France",
            "Germany",
            "Gibraltar",
            "Greece",
            "Indonesia",
            "Ireland",
            "Israel",
            "Italy",
            "Japan",
            "Rep. of Korea",
            "Lithuania",
            "Malaysia",
            "Malta",
            "Other Asia, nes",
            "Netherlands",
            "New Zealand",
            "Nicaragua",
            "Norway",
            "Marshall Isds",
            "Panama",
            "Peru",
            "Portugal",
            "Saint Lucia",
            "Saudi Arabia",
            "India",
            "Singapore",
            "Viet Nam",
            "South Africa",
            "Spain",
            "Sweden",
            "Switzerland",
            "Thailand",
            "United Arab Emirates",
            "Ukraine",
            "United Kingdom",
            "Uruguay"
           ],
           "locationmode": "country names",
           "locations": [
            "Australia",
            "Bahamas",
            "Belgium",
            "Brazil",
            "Belarus",
            "Canada",
            "Chile",
            "China",
            "Colombia",
            "Croatia",
            "Denmark",
            "Dominican Rep.",
            "Finland",
            "France",
            "Germany",
            "Gibraltar",
            "Greece",
            "Indonesia",
            "Ireland",
            "Israel",
            "Italy",
            "Japan",
            "Rep. of Korea",
            "Lithuania",
            "Malaysia",
            "Malta",
            "Other Asia, nes",
            "Netherlands",
            "New Zealand",
            "Nicaragua",
            "Norway",
            "Marshall Isds",
            "Panama",
            "Peru",
            "Portugal",
            "Saint Lucia",
            "Saudi Arabia",
            "India",
            "Singapore",
            "Viet Nam",
            "South Africa",
            "Spain",
            "Sweden",
            "Switzerland",
            "Thailand",
            "United Arab Emirates",
            "Ukraine",
            "United Kingdom",
            "Uruguay"
           ],
           "name": "",
           "type": "choropleth",
           "z": [
            1.04,
            0.45,
            0.16,
            1.12,
            0.03,
            12.99,
            0.84,
            13.44,
            0.5,
            0.08,
            1.27,
            0.32,
            0.06,
            2.49,
            3.27,
            0.04,
            0.34,
            0.49,
            1.33,
            0.42,
            4.33,
            0.5,
            9.08,
            0.18,
            0.53,
            0.01,
            5.17,
            9.05,
            0.09,
            0.33,
            0.21,
            0.02,
            0.69,
            0.68,
            0.52,
            0.22,
            0.03,
            8.62,
            2.82,
            0.55,
            0.41,
            2.13,
            1.19,
            0.14,
            2.44,
            0.77,
            0.02,
            8.07,
            0.5
           ]
          }
         ],
         "name": "2020"
        },
        {
         "data": [
          {
           "coloraxis": "coloraxis",
           "customdata": [
            [
             0,
             2021
            ],
            [
             0.38,
             2021
            ],
            [
             0.09,
             2021
            ],
            [
             1.87,
             2021
            ],
            [
             11.11,
             2021
            ],
            [
             0.47,
             2021
            ],
            [
             8.52,
             2021
            ],
            [
             0.59,
             2021
            ],
            [
             1.23,
             2021
            ],
            [
             0.08,
             2021
            ],
            [
             0.59,
             2021
            ],
            [
             0,
             2021
            ],
            [
             3.42,
             2021
            ],
            [
             2.58,
             2021
            ],
            [
             0.13,
             2021
            ],
            [
             1.19,
             2021
            ],
            [
             0.28,
             2021
            ],
            [
             3.74,
             2021
            ],
            [
             0.22,
             2021
            ],
            [
             12.32,
             2021
            ],
            [
             0.05,
             2021
            ],
            [
             5.09,
             2021
            ],
            [
             10.37,
             2021
            ],
            [
             0.09,
             2021
            ],
            [
             0.22,
             2021
            ],
            [
             1.06,
             2021
            ],
            [
             0.57,
             2021
            ],
            [
             0.57,
             2021
            ],
            [
             0.16,
             2021
            ],
            [
             0.54,
             2021
            ],
            [
             13.7,
             2021
            ],
            [
             4.82,
             2021
            ],
            [
             0.15,
             2021
            ],
            [
             0.08,
             2021
            ],
            [
             2.79,
             2021
            ],
            [
             0.78,
             2021
            ],
            [
             0.77,
             2021
            ],
            [
             1.18,
             2021
            ],
            [
             7.6,
             2021
            ],
            [
             0.55,
             2021
            ],
            [
             0.05,
             2021
            ]
           ],
           "geo": "geo",
           "hovertemplate": "<b>%{hovertext}</b><br><br>Partner=%{location}<br>Export Share (%)=%{z}<extra></extra>",
           "hovertext": [
            "Argentina",
            "Australia",
            "Belgium",
            "Brazil",
            "Canada",
            "Chile",
            "China",
            "Colombia",
            "Denmark",
            "Dominica",
            "Dominican Rep.",
            "Finland",
            "France",
            "Germany",
            "Indonesia",
            "Ireland",
            "Israel",
            "Italy",
            "Japan",
            "Rep. of Korea",
            "Lithuania",
            "Other Asia, nes",
            "Netherlands",
            "Aruba",
            "Nicaragua",
            "Norway",
            "Panama",
            "Peru",
            "Poland",
            "Portugal",
            "India",
            "Singapore",
            "Viet Nam",
            "South Africa",
            "Spain",
            "Sweden",
            "Switzerland",
            "Thailand",
            "United Kingdom",
            "Uruguay",
            "Venezuela"
           ],
           "locationmode": "country names",
           "locations": [
            "Argentina",
            "Australia",
            "Belgium",
            "Brazil",
            "Canada",
            "Chile",
            "China",
            "Colombia",
            "Denmark",
            "Dominica",
            "Dominican Rep.",
            "Finland",
            "France",
            "Germany",
            "Indonesia",
            "Ireland",
            "Israel",
            "Italy",
            "Japan",
            "Rep. of Korea",
            "Lithuania",
            "Other Asia, nes",
            "Netherlands",
            "Aruba",
            "Nicaragua",
            "Norway",
            "Panama",
            "Peru",
            "Poland",
            "Portugal",
            "India",
            "Singapore",
            "Viet Nam",
            "South Africa",
            "Spain",
            "Sweden",
            "Switzerland",
            "Thailand",
            "United Kingdom",
            "Uruguay",
            "Venezuela"
           ],
           "name": "",
           "type": "choropleth",
           "z": [
            0,
            0.38,
            0.09,
            1.87,
            11.11,
            0.47,
            8.52,
            0.59,
            1.23,
            0.08,
            0.59,
            0,
            3.42,
            2.58,
            0.13,
            1.19,
            0.28,
            3.74,
            0.22,
            12.32,
            0.05,
            5.09,
            10.37,
            0.09,
            0.22,
            1.06,
            0.57,
            0.57,
            0.16,
            0.54,
            13.7,
            4.82,
            0.15,
            0.08,
            2.79,
            0.78,
            0.77,
            1.18,
            7.6,
            0.55,
            0.05
           ]
          }
         ],
         "name": "2021"
        },
        {
         "data": [
          {
           "coloraxis": "coloraxis",
           "customdata": [
            [
             0.62,
             2022
            ],
            [
             0.09,
             2022
            ],
            [
             0.08,
             2022
            ],
            [
             1.43,
             2022
            ],
            [
             10.18,
             2022
            ],
            [
             0.16,
             2022
            ],
            [
             5.96,
             2022
            ],
            [
             0.65,
             2022
            ],
            [
             1.29,
             2022
            ],
            [
             0.02,
             2022
            ],
            [
             0.61,
             2022
            ],
            [
             0.26,
             2022
            ],
            [
             4.84,
             2022
            ],
            [
             3.18,
             2022
            ],
            [
             0.16,
             2022
            ],
            [
             0.68,
             2022
            ],
            [
             4.44,
             2022
            ],
            [
             0.78,
             2022
            ],
            [
             10.77,
             2022
            ],
            [
             0.12,
             2022
            ],
            [
             0.14,
             2022
            ],
            [
             4.86,
             2022
            ],
            [
             10.54,
             2022
            ],
            [
             0.13,
             2022
            ],
            [
             0.76,
             2022
            ],
            [
             0.58,
             2022
            ],
            [
             0.04,
             2022
            ],
            [
             0.45,
             2022
            ],
            [
             0.87,
             2022
            ],
            [
             0.26,
             2022
            ],
            [
             8.66,
             2022
            ],
            [
             8.49,
             2022
            ],
            [
             0.08,
             2022
            ],
            [
             4.51,
             2022
            ],
            [
             0.96,
             2022
            ],
            [
             0.1,
             2022
            ],
            [
             1.6,
             2022
            ],
            [
             9.61,
             2022
            ],
            [
             1.03,
             2022
            ]
           ],
           "geo": "geo",
           "hovertemplate": "<b>%{hovertext}</b><br><br>Partner=%{location}<br>Export Share (%)=%{z}<extra></extra>",
           "hovertext": [
            "Australia",
            "Bahamas",
            "Belgium",
            "Brazil",
            "Canada",
            "Chile",
            "China",
            "Colombia",
            "Denmark",
            "Dominica",
            "Dominican Rep.",
            "Finland",
            "France",
            "Germany",
            "Indonesia",
            "Ireland",
            "Italy",
            "Japan",
            "Rep. of Korea",
            "Lithuania",
            "Malaysia",
            "Other Asia, nes",
            "Netherlands",
            "Nicaragua",
            "Norway",
            "Panama",
            "Papua New Guinea",
            "Peru",
            "Poland",
            "Portugal",
            "India",
            "Singapore",
            "Viet Nam",
            "Spain",
            "Sweden",
            "Switzerland",
            "Thailand",
            "United Kingdom",
            "Uruguay"
           ],
           "locationmode": "country names",
           "locations": [
            "Australia",
            "Bahamas",
            "Belgium",
            "Brazil",
            "Canada",
            "Chile",
            "China",
            "Colombia",
            "Denmark",
            "Dominica",
            "Dominican Rep.",
            "Finland",
            "France",
            "Germany",
            "Indonesia",
            "Ireland",
            "Italy",
            "Japan",
            "Rep. of Korea",
            "Lithuania",
            "Malaysia",
            "Other Asia, nes",
            "Netherlands",
            "Nicaragua",
            "Norway",
            "Panama",
            "Papua New Guinea",
            "Peru",
            "Poland",
            "Portugal",
            "India",
            "Singapore",
            "Viet Nam",
            "Spain",
            "Sweden",
            "Switzerland",
            "Thailand",
            "United Kingdom",
            "Uruguay"
           ],
           "name": "",
           "type": "choropleth",
           "z": [
            0.62,
            0.09,
            0.08,
            1.43,
            10.18,
            0.16,
            5.96,
            0.65,
            1.29,
            0.02,
            0.61,
            0.26,
            4.84,
            3.18,
            0.16,
            0.68,
            4.44,
            0.78,
            10.77,
            0.12,
            0.14,
            4.86,
            10.54,
            0.13,
            0.76,
            0.58,
            0.04,
            0.45,
            0.87,
            0.26,
            8.66,
            8.49,
            0.08,
            4.51,
            0.96,
            0.1,
            1.6,
            9.61,
            1.03
           ]
          }
         ],
         "name": "2022"
        },
        {
         "data": [
          {
           "coloraxis": "coloraxis",
           "customdata": [
            [
             0,
             2023
            ],
            [
             0.68,
             2023
            ],
            [
             1.38,
             2023
            ],
            [
             8.65,
             2023
            ],
            [
             0.11,
             2023
            ],
            [
             11.19,
             2023
            ],
            [
             0.69,
             2023
            ],
            [
             0.06,
             2023
            ],
            [
             1.33,
             2023
            ],
            [
             0.58,
             2023
            ],
            [
             0,
             2023
            ],
            [
             0.4,
             2023
            ],
            [
             3.65,
             2023
            ],
            [
             2.7,
             2023
            ],
            [
             0.45,
             2023
            ],
            [
             1.13,
             2023
            ],
            [
             0.06,
             2023
            ],
            [
             3.78,
             2023
            ],
            [
             1.14,
             2023
            ],
            [
             10.3,
             2023
            ],
            [
             0.5,
             2023
            ],
            [
             0.51,
             2023
            ],
            [
             5.23,
             2023
            ],
            [
             16.35,
             2023
            ],
            [
             0.17,
             2023
            ],
            [
             0.75,
             2023
            ],
            [
             0.73,
             2023
            ],
            [
             0.65,
             2023
            ],
            [
             0.8,
             2023
            ],
            [
             0.23,
             2023
            ],
            [
             0,
             2023
            ],
            [
             4.12,
             2023
            ],
            [
             6.71,
             2023
            ],
            [
             0.07,
             2023
            ],
            [
             0.31,
             2023
            ],
            [
             4.93,
             2023
            ],
            [
             1.24,
             2023
            ],
            [
             1.83,
             2023
            ],
            [
             0.14,
             2023
            ],
            [
             6.16,
             2023
            ],
            [
             0.28,
             2023
            ]
           ],
           "geo": "geo",
           "hovertemplate": "<b>%{hovertext}</b><br><br>Partner=%{location}<br>Export Share (%)=%{z}<extra></extra>",
           "hovertext": [
            "Argentina",
            "Australia",
            "Brazil",
            "Canada",
            "Chile",
            "China",
            "Colombia",
            "Croatia",
            "Denmark",
            "Dominican Rep.",
            "El Salvador",
            "Finland",
            "France",
            "Germany",
            "Indonesia",
            "Ireland",
            "Israel",
            "Italy",
            "Japan",
            "Rep. of Korea",
            "Lithuania",
            "Malaysia",
            "Other Asia, nes",
            "Netherlands",
            "Nicaragua",
            "Norway",
            "Panama",
            "Peru",
            "Poland",
            "Portugal",
            "Saudi Arabia",
            "India",
            "Singapore",
            "Viet Nam",
            "South Africa",
            "Spain",
            "Sweden",
            "Thailand",
            "Türkiye",
            "United Kingdom",
            "Uruguay"
           ],
           "locationmode": "country names",
           "locations": [
            "Argentina",
            "Australia",
            "Brazil",
            "Canada",
            "Chile",
            "China",
            "Colombia",
            "Croatia",
            "Denmark",
            "Dominican Rep.",
            "El Salvador",
            "Finland",
            "France",
            "Germany",
            "Indonesia",
            "Ireland",
            "Israel",
            "Italy",
            "Japan",
            "Rep. of Korea",
            "Lithuania",
            "Malaysia",
            "Other Asia, nes",
            "Netherlands",
            "Nicaragua",
            "Norway",
            "Panama",
            "Peru",
            "Poland",
            "Portugal",
            "Saudi Arabia",
            "India",
            "Singapore",
            "Viet Nam",
            "South Africa",
            "Spain",
            "Sweden",
            "Thailand",
            "Türkiye",
            "United Kingdom",
            "Uruguay"
           ],
           "name": "",
           "type": "choropleth",
           "z": [
            0,
            0.68,
            1.38,
            8.65,
            0.11,
            11.19,
            0.69,
            0.06,
            1.33,
            0.58,
            0,
            0.4,
            3.65,
            2.7,
            0.45,
            1.13,
            0.06,
            3.78,
            1.14,
            10.3,
            0.5,
            0.51,
            5.23,
            16.35,
            0.17,
            0.75,
            0.73,
            0.65,
            0.8,
            0.23,
            0,
            4.12,
            6.71,
            0.07,
            0.31,
            4.93,
            1.24,
            1.83,
            0.14,
            6.16,
            0.28
           ]
          }
         ],
         "name": "2023"
        }
       ],
       "layout": {
        "coloraxis": {
         "colorbar": {
          "ticks": "outside",
          "tickvals": [
           0,
           25,
           50,
           75,
           100
          ],
          "title": {
           "text": "Export Share (%)"
          }
         },
         "colorscale": [
          [
           0,
           "#0d0887"
          ],
          [
           0.1111111111111111,
           "#46039f"
          ],
          [
           0.2222222222222222,
           "#7201a8"
          ],
          [
           0.3333333333333333,
           "#9c179e"
          ],
          [
           0.4444444444444444,
           "#bd3786"
          ],
          [
           0.5555555555555556,
           "#d8576b"
          ],
          [
           0.6666666666666666,
           "#ed7953"
          ],
          [
           0.7777777777777778,
           "#fb9f3a"
          ],
          [
           0.8888888888888888,
           "#fdca26"
          ],
          [
           1,
           "#f0f921"
          ]
         ]
        },
        "geo": {
         "center": {},
         "domain": {
          "x": [
           0,
           1
          ],
          "y": [
           0,
           1
          ]
         },
         "projection": {
          "type": "natural earth"
         },
         "showcoastlines": false,
         "showframe": false
        },
        "height": 600,
        "legend": {
         "tracegroupgap": 0
        },
        "sliders": [
         {
          "active": 0,
          "currentvalue": {
           "prefix": "Period="
          },
          "len": 0.9,
          "pad": {
           "b": 10,
           "t": 60
          },
          "steps": [
           {
            "args": [
             [
              "2012"
             ],
             {
              "frame": {
               "duration": 0,
               "redraw": true
              },
              "fromcurrent": true,
              "mode": "immediate",
              "transition": {
               "duration": 0,
               "easing": "linear"
              }
             }
            ],
            "label": "2012",
            "method": "animate"
           },
           {
            "args": [
             [
              "2013"
             ],
             {
              "frame": {
               "duration": 0,
               "redraw": true
              },
              "fromcurrent": true,
              "mode": "immediate",
              "transition": {
               "duration": 0,
               "easing": "linear"
              }
             }
            ],
            "label": "2013",
            "method": "animate"
           },
           {
            "args": [
             [
              "2014"
             ],
             {
              "frame": {
               "duration": 0,
               "redraw": true
              },
              "fromcurrent": true,
              "mode": "immediate",
              "transition": {
               "duration": 0,
               "easing": "linear"
              }
             }
            ],
            "label": "2014",
            "method": "animate"
           },
           {
            "args": [
             [
              "2015"
             ],
             {
              "frame": {
               "duration": 0,
               "redraw": true
              },
              "fromcurrent": true,
              "mode": "immediate",
              "transition": {
               "duration": 0,
               "easing": "linear"
              }
             }
            ],
            "label": "2015",
            "method": "animate"
           },
           {
            "args": [
             [
              "2016"
             ],
             {
              "frame": {
               "duration": 0,
               "redraw": true
              },
              "fromcurrent": true,
              "mode": "immediate",
              "transition": {
               "duration": 0,
               "easing": "linear"
              }
             }
            ],
            "label": "2016",
            "method": "animate"
           },
           {
            "args": [
             [
              "2017"
             ],
             {
              "frame": {
               "duration": 0,
               "redraw": true
              },
              "fromcurrent": true,
              "mode": "immediate",
              "transition": {
               "duration": 0,
               "easing": "linear"
              }
             }
            ],
            "label": "2017",
            "method": "animate"
           },
           {
            "args": [
             [
              "2018"
             ],
             {
              "frame": {
               "duration": 0,
               "redraw": true
              },
              "fromcurrent": true,
              "mode": "immediate",
              "transition": {
               "duration": 0,
               "easing": "linear"
              }
             }
            ],
            "label": "2018",
            "method": "animate"
           },
           {
            "args": [
             [
              "2019"
             ],
             {
              "frame": {
               "duration": 0,
               "redraw": true
              },
              "fromcurrent": true,
              "mode": "immediate",
              "transition": {
               "duration": 0,
               "easing": "linear"
              }
             }
            ],
            "label": "2019",
            "method": "animate"
           },
           {
            "args": [
             [
              "2020"
             ],
             {
              "frame": {
               "duration": 0,
               "redraw": true
              },
              "fromcurrent": true,
              "mode": "immediate",
              "transition": {
               "duration": 0,
               "easing": "linear"
              }
             }
            ],
            "label": "2020",
            "method": "animate"
           },
           {
            "args": [
             [
              "2021"
             ],
             {
              "frame": {
               "duration": 0,
               "redraw": true
              },
              "fromcurrent": true,
              "mode": "immediate",
              "transition": {
               "duration": 0,
               "easing": "linear"
              }
             }
            ],
            "label": "2021",
            "method": "animate"
           },
           {
            "args": [
             [
              "2022"
             ],
             {
              "frame": {
               "duration": 0,
               "redraw": true
              },
              "fromcurrent": true,
              "mode": "immediate",
              "transition": {
               "duration": 0,
               "easing": "linear"
              }
             }
            ],
            "label": "2022",
            "method": "animate"
           },
           {
            "args": [
             [
              "2023"
             ],
             {
              "frame": {
               "duration": 0,
               "redraw": true
              },
              "fromcurrent": true,
              "mode": "immediate",
              "transition": {
               "duration": 0,
               "easing": "linear"
              }
             }
            ],
            "label": "2023",
            "method": "animate"
           }
          ],
          "x": 0.1,
          "xanchor": "left",
          "y": 0,
          "yanchor": "top"
         }
        ],
        "template": {
         "data": {
          "bar": [
           {
            "error_x": {
             "color": "#2a3f5f"
            },
            "error_y": {
             "color": "#2a3f5f"
            },
            "marker": {
             "line": {
              "color": "#E5ECF6",
              "width": 0.5
             },
             "pattern": {
              "fillmode": "overlay",
              "size": 10,
              "solidity": 0.2
             }
            },
            "type": "bar"
           }
          ],
          "barpolar": [
           {
            "marker": {
             "line": {
              "color": "#E5ECF6",
              "width": 0.5
             },
             "pattern": {
              "fillmode": "overlay",
              "size": 10,
              "solidity": 0.2
             }
            },
            "type": "barpolar"
           }
          ],
          "carpet": [
           {
            "aaxis": {
             "endlinecolor": "#2a3f5f",
             "gridcolor": "white",
             "linecolor": "white",
             "minorgridcolor": "white",
             "startlinecolor": "#2a3f5f"
            },
            "baxis": {
             "endlinecolor": "#2a3f5f",
             "gridcolor": "white",
             "linecolor": "white",
             "minorgridcolor": "white",
             "startlinecolor": "#2a3f5f"
            },
            "type": "carpet"
           }
          ],
          "choropleth": [
           {
            "colorbar": {
             "outlinewidth": 0,
             "ticks": ""
            },
            "type": "choropleth"
           }
          ],
          "contour": [
           {
            "colorbar": {
             "outlinewidth": 0,
             "ticks": ""
            },
            "colorscale": [
             [
              0,
              "#0d0887"
             ],
             [
              0.1111111111111111,
              "#46039f"
             ],
             [
              0.2222222222222222,
              "#7201a8"
             ],
             [
              0.3333333333333333,
              "#9c179e"
             ],
             [
              0.4444444444444444,
              "#bd3786"
             ],
             [
              0.5555555555555556,
              "#d8576b"
             ],
             [
              0.6666666666666666,
              "#ed7953"
             ],
             [
              0.7777777777777778,
              "#fb9f3a"
             ],
             [
              0.8888888888888888,
              "#fdca26"
             ],
             [
              1,
              "#f0f921"
             ]
            ],
            "type": "contour"
           }
          ],
          "contourcarpet": [
           {
            "colorbar": {
             "outlinewidth": 0,
             "ticks": ""
            },
            "type": "contourcarpet"
           }
          ],
          "heatmap": [
           {
            "colorbar": {
             "outlinewidth": 0,
             "ticks": ""
            },
            "colorscale": [
             [
              0,
              "#0d0887"
             ],
             [
              0.1111111111111111,
              "#46039f"
             ],
             [
              0.2222222222222222,
              "#7201a8"
             ],
             [
              0.3333333333333333,
              "#9c179e"
             ],
             [
              0.4444444444444444,
              "#bd3786"
             ],
             [
              0.5555555555555556,
              "#d8576b"
             ],
             [
              0.6666666666666666,
              "#ed7953"
             ],
             [
              0.7777777777777778,
              "#fb9f3a"
             ],
             [
              0.8888888888888888,
              "#fdca26"
             ],
             [
              1,
              "#f0f921"
             ]
            ],
            "type": "heatmap"
           }
          ],
          "heatmapgl": [
           {
            "colorbar": {
             "outlinewidth": 0,
             "ticks": ""
            },
            "colorscale": [
             [
              0,
              "#0d0887"
             ],
             [
              0.1111111111111111,
              "#46039f"
             ],
             [
              0.2222222222222222,
              "#7201a8"
             ],
             [
              0.3333333333333333,
              "#9c179e"
             ],
             [
              0.4444444444444444,
              "#bd3786"
             ],
             [
              0.5555555555555556,
              "#d8576b"
             ],
             [
              0.6666666666666666,
              "#ed7953"
             ],
             [
              0.7777777777777778,
              "#fb9f3a"
             ],
             [
              0.8888888888888888,
              "#fdca26"
             ],
             [
              1,
              "#f0f921"
             ]
            ],
            "type": "heatmapgl"
           }
          ],
          "histogram": [
           {
            "marker": {
             "pattern": {
              "fillmode": "overlay",
              "size": 10,
              "solidity": 0.2
             }
            },
            "type": "histogram"
           }
          ],
          "histogram2d": [
           {
            "colorbar": {
             "outlinewidth": 0,
             "ticks": ""
            },
            "colorscale": [
             [
              0,
              "#0d0887"
             ],
             [
              0.1111111111111111,
              "#46039f"
             ],
             [
              0.2222222222222222,
              "#7201a8"
             ],
             [
              0.3333333333333333,
              "#9c179e"
             ],
             [
              0.4444444444444444,
              "#bd3786"
             ],
             [
              0.5555555555555556,
              "#d8576b"
             ],
             [
              0.6666666666666666,
              "#ed7953"
             ],
             [
              0.7777777777777778,
              "#fb9f3a"
             ],
             [
              0.8888888888888888,
              "#fdca26"
             ],
             [
              1,
              "#f0f921"
             ]
            ],
            "type": "histogram2d"
           }
          ],
          "histogram2dcontour": [
           {
            "colorbar": {
             "outlinewidth": 0,
             "ticks": ""
            },
            "colorscale": [
             [
              0,
              "#0d0887"
             ],
             [
              0.1111111111111111,
              "#46039f"
             ],
             [
              0.2222222222222222,
              "#7201a8"
             ],
             [
              0.3333333333333333,
              "#9c179e"
             ],
             [
              0.4444444444444444,
              "#bd3786"
             ],
             [
              0.5555555555555556,
              "#d8576b"
             ],
             [
              0.6666666666666666,
              "#ed7953"
             ],
             [
              0.7777777777777778,
              "#fb9f3a"
             ],
             [
              0.8888888888888888,
              "#fdca26"
             ],
             [
              1,
              "#f0f921"
             ]
            ],
            "type": "histogram2dcontour"
           }
          ],
          "mesh3d": [
           {
            "colorbar": {
             "outlinewidth": 0,
             "ticks": ""
            },
            "type": "mesh3d"
           }
          ],
          "parcoords": [
           {
            "line": {
             "colorbar": {
              "outlinewidth": 0,
              "ticks": ""
             }
            },
            "type": "parcoords"
           }
          ],
          "pie": [
           {
            "automargin": true,
            "type": "pie"
           }
          ],
          "scatter": [
           {
            "fillpattern": {
             "fillmode": "overlay",
             "size": 10,
             "solidity": 0.2
            },
            "type": "scatter"
           }
          ],
          "scatter3d": [
           {
            "line": {
             "colorbar": {
              "outlinewidth": 0,
              "ticks": ""
             }
            },
            "marker": {
             "colorbar": {
              "outlinewidth": 0,
              "ticks": ""
             }
            },
            "type": "scatter3d"
           }
          ],
          "scattercarpet": [
           {
            "marker": {
             "colorbar": {
              "outlinewidth": 0,
              "ticks": ""
             }
            },
            "type": "scattercarpet"
           }
          ],
          "scattergeo": [
           {
            "marker": {
             "colorbar": {
              "outlinewidth": 0,
              "ticks": ""
             }
            },
            "type": "scattergeo"
           }
          ],
          "scattergl": [
           {
            "marker": {
             "colorbar": {
              "outlinewidth": 0,
              "ticks": ""
             }
            },
            "type": "scattergl"
           }
          ],
          "scattermapbox": [
           {
            "marker": {
             "colorbar": {
              "outlinewidth": 0,
              "ticks": ""
             }
            },
            "type": "scattermapbox"
           }
          ],
          "scatterpolar": [
           {
            "marker": {
             "colorbar": {
              "outlinewidth": 0,
              "ticks": ""
             }
            },
            "type": "scatterpolar"
           }
          ],
          "scatterpolargl": [
           {
            "marker": {
             "colorbar": {
              "outlinewidth": 0,
              "ticks": ""
             }
            },
            "type": "scatterpolargl"
           }
          ],
          "scatterternary": [
           {
            "marker": {
             "colorbar": {
              "outlinewidth": 0,
              "ticks": ""
             }
            },
            "type": "scatterternary"
           }
          ],
          "surface": [
           {
            "colorbar": {
             "outlinewidth": 0,
             "ticks": ""
            },
            "colorscale": [
             [
              0,
              "#0d0887"
             ],
             [
              0.1111111111111111,
              "#46039f"
             ],
             [
              0.2222222222222222,
              "#7201a8"
             ],
             [
              0.3333333333333333,
              "#9c179e"
             ],
             [
              0.4444444444444444,
              "#bd3786"
             ],
             [
              0.5555555555555556,
              "#d8576b"
             ],
             [
              0.6666666666666666,
              "#ed7953"
             ],
             [
              0.7777777777777778,
              "#fb9f3a"
             ],
             [
              0.8888888888888888,
              "#fdca26"
             ],
             [
              1,
              "#f0f921"
             ]
            ],
            "type": "surface"
           }
          ],
          "table": [
           {
            "cells": {
             "fill": {
              "color": "#EBF0F8"
             },
             "line": {
              "color": "white"
             }
            },
            "header": {
             "fill": {
              "color": "#C8D4E3"
             },
             "line": {
              "color": "white"
             }
            },
            "type": "table"
           }
          ]
         },
         "layout": {
          "annotationdefaults": {
           "arrowcolor": "#2a3f5f",
           "arrowhead": 0,
           "arrowwidth": 1
          },
          "autotypenumbers": "strict",
          "coloraxis": {
           "colorbar": {
            "outlinewidth": 0,
            "ticks": ""
           }
          },
          "colorscale": {
           "diverging": [
            [
             0,
             "#8e0152"
            ],
            [
             0.1,
             "#c51b7d"
            ],
            [
             0.2,
             "#de77ae"
            ],
            [
             0.3,
             "#f1b6da"
            ],
            [
             0.4,
             "#fde0ef"
            ],
            [
             0.5,
             "#f7f7f7"
            ],
            [
             0.6,
             "#e6f5d0"
            ],
            [
             0.7,
             "#b8e186"
            ],
            [
             0.8,
             "#7fbc41"
            ],
            [
             0.9,
             "#4d9221"
            ],
            [
             1,
             "#276419"
            ]
           ],
           "sequential": [
            [
             0,
             "#0d0887"
            ],
            [
             0.1111111111111111,
             "#46039f"
            ],
            [
             0.2222222222222222,
             "#7201a8"
            ],
            [
             0.3333333333333333,
             "#9c179e"
            ],
            [
             0.4444444444444444,
             "#bd3786"
            ],
            [
             0.5555555555555556,
             "#d8576b"
            ],
            [
             0.6666666666666666,
             "#ed7953"
            ],
            [
             0.7777777777777778,
             "#fb9f3a"
            ],
            [
             0.8888888888888888,
             "#fdca26"
            ],
            [
             1,
             "#f0f921"
            ]
           ],
           "sequentialminus": [
            [
             0,
             "#0d0887"
            ],
            [
             0.1111111111111111,
             "#46039f"
            ],
            [
             0.2222222222222222,
             "#7201a8"
            ],
            [
             0.3333333333333333,
             "#9c179e"
            ],
            [
             0.4444444444444444,
             "#bd3786"
            ],
            [
             0.5555555555555556,
             "#d8576b"
            ],
            [
             0.6666666666666666,
             "#ed7953"
            ],
            [
             0.7777777777777778,
             "#fb9f3a"
            ],
            [
             0.8888888888888888,
             "#fdca26"
            ],
            [
             1,
             "#f0f921"
            ]
           ]
          },
          "colorway": [
           "#636efa",
           "#EF553B",
           "#00cc96",
           "#ab63fa",
           "#FFA15A",
           "#19d3f3",
           "#FF6692",
           "#B6E880",
           "#FF97FF",
           "#FECB52"
          ],
          "font": {
           "color": "#2a3f5f"
          },
          "geo": {
           "bgcolor": "white",
           "lakecolor": "white",
           "landcolor": "#E5ECF6",
           "showlakes": true,
           "showland": true,
           "subunitcolor": "white"
          },
          "hoverlabel": {
           "align": "left"
          },
          "hovermode": "closest",
          "mapbox": {
           "style": "light"
          },
          "paper_bgcolor": "white",
          "plot_bgcolor": "#E5ECF6",
          "polar": {
           "angularaxis": {
            "gridcolor": "white",
            "linecolor": "white",
            "ticks": ""
           },
           "bgcolor": "#E5ECF6",
           "radialaxis": {
            "gridcolor": "white",
            "linecolor": "white",
            "ticks": ""
           }
          },
          "scene": {
           "xaxis": {
            "backgroundcolor": "#E5ECF6",
            "gridcolor": "white",
            "gridwidth": 2,
            "linecolor": "white",
            "showbackground": true,
            "ticks": "",
            "zerolinecolor": "white"
           },
           "yaxis": {
            "backgroundcolor": "#E5ECF6",
            "gridcolor": "white",
            "gridwidth": 2,
            "linecolor": "white",
            "showbackground": true,
            "ticks": "",
            "zerolinecolor": "white"
           },
           "zaxis": {
            "backgroundcolor": "#E5ECF6",
            "gridcolor": "white",
            "gridwidth": 2,
            "linecolor": "white",
            "showbackground": true,
            "ticks": "",
            "zerolinecolor": "white"
           }
          },
          "shapedefaults": {
           "line": {
            "color": "#2a3f5f"
           }
          },
          "ternary": {
           "aaxis": {
            "gridcolor": "white",
            "linecolor": "white",
            "ticks": ""
           },
           "baxis": {
            "gridcolor": "white",
            "linecolor": "white",
            "ticks": ""
           },
           "bgcolor": "#E5ECF6",
           "caxis": {
            "gridcolor": "white",
            "linecolor": "white",
            "ticks": ""
           }
          },
          "title": {
           "x": 0.05
          },
          "xaxis": {
           "automargin": true,
           "gridcolor": "white",
           "linecolor": "white",
           "ticks": "",
           "title": {
            "standoff": 15
           },
           "zerolinecolor": "white",
           "zerolinewidth": 2
          },
          "yaxis": {
           "automargin": true,
           "gridcolor": "white",
           "linecolor": "white",
           "ticks": "",
           "title": {
            "standoff": 15
           },
           "zerolinecolor": "white",
           "zerolinewidth": 2
          }
         }
        },
        "title": {
         "text": "Partner Share of 2709 Exports from USA over the recent periods",
         "x": 0.5
        },
        "updatemenus": [
         {
          "buttons": [
           {
            "args": [
             null,
             {
              "frame": {
               "duration": 500,
               "redraw": true
              },
              "fromcurrent": true,
              "mode": "immediate",
              "transition": {
               "duration": 500,
               "easing": "linear"
              }
             }
            ],
            "label": "&#9654;",
            "method": "animate"
           },
           {
            "args": [
             [
              null
             ],
             {
              "frame": {
               "duration": 0,
               "redraw": true
              },
              "fromcurrent": true,
              "mode": "immediate",
              "transition": {
               "duration": 0,
               "easing": "linear"
              }
             }
            ],
            "label": "&#9724;",
            "method": "animate"
           }
          ],
          "direction": "left",
          "pad": {
           "r": 10,
           "t": 70
          },
          "showactive": false,
          "type": "buttons",
          "x": 0.1,
          "xanchor": "right",
          "y": 0,
          "yanchor": "top"
         }
        ],
        "width": 1000
       }
      }
     },
     "metadata": {},
     "output_type": "display_data"
    }
   ],
   "source": [
    "def Countries_Share(country, commodity_code):\n",
    "    flows = filter_trades(country, commodity_code, 'Export') \n",
    "    total_export_trades =trade_data[trade_data['Partner'] == 'World'].set_index('Period')['Trade Value (M $)'].to_dict()\n",
    "    trade_data['Share of Exports (%)'] = trade_data.apply(lambda row: (row['Trade Value (M $)'] / total_export_trades.get(row['Period'], 1)) * 100, axis=1)\n",
    "  \n",
    "    total_export_trades =flows[flows['Partner'] == 'World'].set_index('Period')['Trade Value (M $)'].to_dict()\n",
    "    flows['Share of Exports (%)'] = flows.apply(lambda row: round((row['Trade Value (M $)'] / total_export_trades.get(row['Period'], 1)) * 100,2), axis=1)\n",
    "    flows = flows[flows['Partner'] != 'World']\n",
    "    fig = px.choropleth(\n",
    "        flows,locations='Partner', locationmode='country names', color='Share of Exports (%)',hover_name='Partner',\n",
    "        hover_data={'Share of Exports (%)': True,'Period':False},\n",
    "        animation_frame='Period', color_continuous_scale=px.colors.sequential.Plasma,\n",
    "        title=f'Partner Share of {commodity_code} Exports from {country} over the recent periods',\n",
    "        labels={'Share of Exports (%)': 'Export Share (%)'}\n",
    "    )\n",
    "    fig.update_layout(\n",
    "        width=1000, \n",
    "        height=600,\n",
    "        geo=dict(showframe=False, showcoastlines=False, projection_type='natural earth'),\n",
    "        coloraxis_colorbar=dict(\n",
    "            title='Export Share (%)',\n",
    "            ticks='outside',\n",
    "            tickvals=[0, 25, 50, 75, 100],\n",
    "        ),\n",
    "        title_x=0.5\n",
    "    )\n",
    "    return fig\n",
    "\n",
    "Countries_Share('USA', 2709) \n",
    " "
   ]
  },
  {
   "cell_type": "markdown",
   "metadata": {},
   "source": [
    "##### Highest growths of exports to the selected country in the last couple of years "
   ]
  },
  {
   "cell_type": "code",
   "execution_count": 16,
   "metadata": {},
   "outputs": [],
   "source": [
    "def highest_growth_exporters(country,commodity) :\n",
    "    imports = filter_trades(country, commodity, 'Import')\n",
    "    imports = imports[(imports['Partner']!='World')&(imports['Period'].between(2018, 2023))]\n",
    "    pivot =  imports.pivot_table(index='Partner', columns='Period', values='Trade Value (M $)').reset_index()\n",
    "    years_period = pivot.columns.to_list()\n",
    "    years_period.remove('Partner')\n",
    "    pivot.dropna(thresh=len(list(pivot.columns))//2, inplace=True)\n",
    "    pivot.dropna(subset=[pivot.columns[1]], inplace=True)\n",
    "    pivot = pivot.apply(lambda row: row.fillna(method='ffill'), axis=1)\n",
    "    for year in  years_period[1:]:\n",
    "        pivot[f'Growth {year} (%)'] = (pivot[year] - pivot[year-1])/pivot[year-1]*100\n",
    "\n",
    "    pivot = pivot.replace([np.inf,-np.inf],100)\n",
    "    pivot['Growth Average (%)'] = pivot[[f'Growth {year} (%)' for year in years_period[1:]]].mean(axis=1)\n",
    "    top10 = pivot.sort_values(by='Growth Average (%)', ascending=False).head(10)\n",
    "\n",
    "    flags = {country : f'https://flagcdn.com/{country}.svg' for  country in top10['Partner'].values}\n",
    "    top10['Flag'] = top10['Partner'].map(flags)\n",
    "\n",
    "    top_exporters = top10[['Partner','Flag','Growth 2019 (%)','Growth 2020 (%)','Growth 2021 (%)','Growth 2022 (%)','Growth 2023 (%)']]\n",
    "    top_exporters = top_exporters.reset_index(drop=True)\n",
    "    header = list(top_exporters.columns)\n",
    "    top_exporters['Flag'] = top_exporters['Flag'].apply(lambda url: f'<img src=\"{url}\" style=\"height:30px;\">')\n",
    "\n",
    "    for col in header[2:]:  \n",
    "      top_exporters[col] = top_exporters[col].apply(lambda x: f\"{x:.2f}%\")\n",
    "    cell_values = [top_exporters[col].to_list() for col in list(top_exporters.columns)]\n",
    "    fig = go.Figure(data=[go.Table(\n",
    "        columnwidth=[80, 50, 80, 80, 80, 80, 80],  \n",
    "    header=dict(\n",
    "            values=header,  \n",
    "            fill_color='rgba(255, 255, 255, 0)',  \n",
    "            align='left',\n",
    "            font=dict(color='black', size=14),\n",
    "            line_color='white' \n",
    "        ),\n",
    "        cells=dict(\n",
    "            values=cell_values,\n",
    "            align='left',\n",
    "            font=dict(color='black', size=12),\n",
    "            height=30,\n",
    "            line_color='white', \n",
    "            format=[None]  \n",
    "        )\n",
    "    )])\n",
    "    fig.update_layout(\n",
    "        margin=dict(l=0, r=0, t=0, b=0),\n",
    "        height=400\n",
    "    )\n",
    "    return fig\n"
   ]
  },
  {
   "cell_type": "code",
   "execution_count": 17,
   "metadata": {},
   "outputs": [
    {
     "data": {
      "application/vnd.plotly.v1+json": {
       "config": {
        "plotlyServerURL": "https://plot.ly"
       },
       "data": [
        {
         "cells": {
          "align": "left",
          "font": {
           "color": "black",
           "size": 12
          },
          "format": [
           null
          ],
          "height": 30,
          "line": {
           "color": "white"
          },
          "values": [
           [
            "Venezuela",
            "Libya",
            "Peru",
            "United Arab Emirates",
            "Trinidad and Tobago",
            "Ghana",
            "Cameroon",
            "Algeria",
            "Norway",
            "Kazakhstan"
           ],
           [
            "<img src=\"https://flagcdn.com/Venezuela.svg\" style=\"height:30px;\">",
            "<img src=\"https://flagcdn.com/Libya.svg\" style=\"height:30px;\">",
            "<img src=\"https://flagcdn.com/Peru.svg\" style=\"height:30px;\">",
            "<img src=\"https://flagcdn.com/United Arab Emirates.svg\" style=\"height:30px;\">",
            "<img src=\"https://flagcdn.com/Trinidad and Tobago.svg\" style=\"height:30px;\">",
            "<img src=\"https://flagcdn.com/Ghana.svg\" style=\"height:30px;\">",
            "<img src=\"https://flagcdn.com/Cameroon.svg\" style=\"height:30px;\">",
            "<img src=\"https://flagcdn.com/Algeria.svg\" style=\"height:30px;\">",
            "<img src=\"https://flagcdn.com/Norway.svg\" style=\"height:30px;\">",
            "<img src=\"https://flagcdn.com/Kazakhstan.svg\" style=\"height:30px;\">"
           ],
           [
            "-86.69%",
            "7.14%",
            "63.64%",
            "-56.42%",
            "314.47%",
            "92.75%",
            "302.26%",
            "-75.20%",
            "-22.65%",
            "-9.42%"
           ],
           [
            "-98.93%",
            "-84.86%",
            "336.41%",
            "72.99%",
            "-29.63%",
            "-30.90%",
            "72.16%",
            "-81.65%",
            "-83.16%",
            "-51.57%"
           ],
           [
            "0.00%",
            "893.49%",
            "91.08%",
            "331.32%",
            "51.70%",
            "237.60%",
            "-64.92%",
            "314.20%",
            "392.71%",
            "124.80%"
           ],
           [
            "0.00%",
            "2.32%",
            "6.66%",
            "0.70%",
            "59.20%",
            "73.45%",
            "0.00%",
            "48.51%",
            "-47.76%",
            "53.74%"
           ],
           [
            "22852.02%",
            "-29.92%",
            "-97.26%",
            "23.21%",
            "-26.57%",
            "-47.80%",
            "-56.26%",
            "-13.72%",
            "-83.00%",
            "29.20%"
           ]
          ]
         },
         "columnwidth": [
          80,
          50,
          80,
          80,
          80,
          80,
          80
         ],
         "header": {
          "align": "left",
          "fill": {
           "color": "rgba(255, 255, 255, 0)"
          },
          "font": {
           "color": "black",
           "size": 14
          },
          "line": {
           "color": "white"
          },
          "values": [
           "Partner",
           "Flag",
           "Growth 2019 (%)",
           "Growth 2020 (%)",
           "Growth 2021 (%)",
           "Growth 2022 (%)",
           "Growth 2023 (%)"
          ]
         },
         "type": "table"
        }
       ],
       "layout": {
        "height": 400,
        "margin": {
         "b": 0,
         "l": 0,
         "r": 0,
         "t": 0
        },
        "template": {
         "data": {
          "bar": [
           {
            "error_x": {
             "color": "#2a3f5f"
            },
            "error_y": {
             "color": "#2a3f5f"
            },
            "marker": {
             "line": {
              "color": "#E5ECF6",
              "width": 0.5
             },
             "pattern": {
              "fillmode": "overlay",
              "size": 10,
              "solidity": 0.2
             }
            },
            "type": "bar"
           }
          ],
          "barpolar": [
           {
            "marker": {
             "line": {
              "color": "#E5ECF6",
              "width": 0.5
             },
             "pattern": {
              "fillmode": "overlay",
              "size": 10,
              "solidity": 0.2
             }
            },
            "type": "barpolar"
           }
          ],
          "carpet": [
           {
            "aaxis": {
             "endlinecolor": "#2a3f5f",
             "gridcolor": "white",
             "linecolor": "white",
             "minorgridcolor": "white",
             "startlinecolor": "#2a3f5f"
            },
            "baxis": {
             "endlinecolor": "#2a3f5f",
             "gridcolor": "white",
             "linecolor": "white",
             "minorgridcolor": "white",
             "startlinecolor": "#2a3f5f"
            },
            "type": "carpet"
           }
          ],
          "choropleth": [
           {
            "colorbar": {
             "outlinewidth": 0,
             "ticks": ""
            },
            "type": "choropleth"
           }
          ],
          "contour": [
           {
            "colorbar": {
             "outlinewidth": 0,
             "ticks": ""
            },
            "colorscale": [
             [
              0,
              "#0d0887"
             ],
             [
              0.1111111111111111,
              "#46039f"
             ],
             [
              0.2222222222222222,
              "#7201a8"
             ],
             [
              0.3333333333333333,
              "#9c179e"
             ],
             [
              0.4444444444444444,
              "#bd3786"
             ],
             [
              0.5555555555555556,
              "#d8576b"
             ],
             [
              0.6666666666666666,
              "#ed7953"
             ],
             [
              0.7777777777777778,
              "#fb9f3a"
             ],
             [
              0.8888888888888888,
              "#fdca26"
             ],
             [
              1,
              "#f0f921"
             ]
            ],
            "type": "contour"
           }
          ],
          "contourcarpet": [
           {
            "colorbar": {
             "outlinewidth": 0,
             "ticks": ""
            },
            "type": "contourcarpet"
           }
          ],
          "heatmap": [
           {
            "colorbar": {
             "outlinewidth": 0,
             "ticks": ""
            },
            "colorscale": [
             [
              0,
              "#0d0887"
             ],
             [
              0.1111111111111111,
              "#46039f"
             ],
             [
              0.2222222222222222,
              "#7201a8"
             ],
             [
              0.3333333333333333,
              "#9c179e"
             ],
             [
              0.4444444444444444,
              "#bd3786"
             ],
             [
              0.5555555555555556,
              "#d8576b"
             ],
             [
              0.6666666666666666,
              "#ed7953"
             ],
             [
              0.7777777777777778,
              "#fb9f3a"
             ],
             [
              0.8888888888888888,
              "#fdca26"
             ],
             [
              1,
              "#f0f921"
             ]
            ],
            "type": "heatmap"
           }
          ],
          "heatmapgl": [
           {
            "colorbar": {
             "outlinewidth": 0,
             "ticks": ""
            },
            "colorscale": [
             [
              0,
              "#0d0887"
             ],
             [
              0.1111111111111111,
              "#46039f"
             ],
             [
              0.2222222222222222,
              "#7201a8"
             ],
             [
              0.3333333333333333,
              "#9c179e"
             ],
             [
              0.4444444444444444,
              "#bd3786"
             ],
             [
              0.5555555555555556,
              "#d8576b"
             ],
             [
              0.6666666666666666,
              "#ed7953"
             ],
             [
              0.7777777777777778,
              "#fb9f3a"
             ],
             [
              0.8888888888888888,
              "#fdca26"
             ],
             [
              1,
              "#f0f921"
             ]
            ],
            "type": "heatmapgl"
           }
          ],
          "histogram": [
           {
            "marker": {
             "pattern": {
              "fillmode": "overlay",
              "size": 10,
              "solidity": 0.2
             }
            },
            "type": "histogram"
           }
          ],
          "histogram2d": [
           {
            "colorbar": {
             "outlinewidth": 0,
             "ticks": ""
            },
            "colorscale": [
             [
              0,
              "#0d0887"
             ],
             [
              0.1111111111111111,
              "#46039f"
             ],
             [
              0.2222222222222222,
              "#7201a8"
             ],
             [
              0.3333333333333333,
              "#9c179e"
             ],
             [
              0.4444444444444444,
              "#bd3786"
             ],
             [
              0.5555555555555556,
              "#d8576b"
             ],
             [
              0.6666666666666666,
              "#ed7953"
             ],
             [
              0.7777777777777778,
              "#fb9f3a"
             ],
             [
              0.8888888888888888,
              "#fdca26"
             ],
             [
              1,
              "#f0f921"
             ]
            ],
            "type": "histogram2d"
           }
          ],
          "histogram2dcontour": [
           {
            "colorbar": {
             "outlinewidth": 0,
             "ticks": ""
            },
            "colorscale": [
             [
              0,
              "#0d0887"
             ],
             [
              0.1111111111111111,
              "#46039f"
             ],
             [
              0.2222222222222222,
              "#7201a8"
             ],
             [
              0.3333333333333333,
              "#9c179e"
             ],
             [
              0.4444444444444444,
              "#bd3786"
             ],
             [
              0.5555555555555556,
              "#d8576b"
             ],
             [
              0.6666666666666666,
              "#ed7953"
             ],
             [
              0.7777777777777778,
              "#fb9f3a"
             ],
             [
              0.8888888888888888,
              "#fdca26"
             ],
             [
              1,
              "#f0f921"
             ]
            ],
            "type": "histogram2dcontour"
           }
          ],
          "mesh3d": [
           {
            "colorbar": {
             "outlinewidth": 0,
             "ticks": ""
            },
            "type": "mesh3d"
           }
          ],
          "parcoords": [
           {
            "line": {
             "colorbar": {
              "outlinewidth": 0,
              "ticks": ""
             }
            },
            "type": "parcoords"
           }
          ],
          "pie": [
           {
            "automargin": true,
            "type": "pie"
           }
          ],
          "scatter": [
           {
            "fillpattern": {
             "fillmode": "overlay",
             "size": 10,
             "solidity": 0.2
            },
            "type": "scatter"
           }
          ],
          "scatter3d": [
           {
            "line": {
             "colorbar": {
              "outlinewidth": 0,
              "ticks": ""
             }
            },
            "marker": {
             "colorbar": {
              "outlinewidth": 0,
              "ticks": ""
             }
            },
            "type": "scatter3d"
           }
          ],
          "scattercarpet": [
           {
            "marker": {
             "colorbar": {
              "outlinewidth": 0,
              "ticks": ""
             }
            },
            "type": "scattercarpet"
           }
          ],
          "scattergeo": [
           {
            "marker": {
             "colorbar": {
              "outlinewidth": 0,
              "ticks": ""
             }
            },
            "type": "scattergeo"
           }
          ],
          "scattergl": [
           {
            "marker": {
             "colorbar": {
              "outlinewidth": 0,
              "ticks": ""
             }
            },
            "type": "scattergl"
           }
          ],
          "scattermapbox": [
           {
            "marker": {
             "colorbar": {
              "outlinewidth": 0,
              "ticks": ""
             }
            },
            "type": "scattermapbox"
           }
          ],
          "scatterpolar": [
           {
            "marker": {
             "colorbar": {
              "outlinewidth": 0,
              "ticks": ""
             }
            },
            "type": "scatterpolar"
           }
          ],
          "scatterpolargl": [
           {
            "marker": {
             "colorbar": {
              "outlinewidth": 0,
              "ticks": ""
             }
            },
            "type": "scatterpolargl"
           }
          ],
          "scatterternary": [
           {
            "marker": {
             "colorbar": {
              "outlinewidth": 0,
              "ticks": ""
             }
            },
            "type": "scatterternary"
           }
          ],
          "surface": [
           {
            "colorbar": {
             "outlinewidth": 0,
             "ticks": ""
            },
            "colorscale": [
             [
              0,
              "#0d0887"
             ],
             [
              0.1111111111111111,
              "#46039f"
             ],
             [
              0.2222222222222222,
              "#7201a8"
             ],
             [
              0.3333333333333333,
              "#9c179e"
             ],
             [
              0.4444444444444444,
              "#bd3786"
             ],
             [
              0.5555555555555556,
              "#d8576b"
             ],
             [
              0.6666666666666666,
              "#ed7953"
             ],
             [
              0.7777777777777778,
              "#fb9f3a"
             ],
             [
              0.8888888888888888,
              "#fdca26"
             ],
             [
              1,
              "#f0f921"
             ]
            ],
            "type": "surface"
           }
          ],
          "table": [
           {
            "cells": {
             "fill": {
              "color": "#EBF0F8"
             },
             "line": {
              "color": "white"
             }
            },
            "header": {
             "fill": {
              "color": "#C8D4E3"
             },
             "line": {
              "color": "white"
             }
            },
            "type": "table"
           }
          ]
         },
         "layout": {
          "annotationdefaults": {
           "arrowcolor": "#2a3f5f",
           "arrowhead": 0,
           "arrowwidth": 1
          },
          "autotypenumbers": "strict",
          "coloraxis": {
           "colorbar": {
            "outlinewidth": 0,
            "ticks": ""
           }
          },
          "colorscale": {
           "diverging": [
            [
             0,
             "#8e0152"
            ],
            [
             0.1,
             "#c51b7d"
            ],
            [
             0.2,
             "#de77ae"
            ],
            [
             0.3,
             "#f1b6da"
            ],
            [
             0.4,
             "#fde0ef"
            ],
            [
             0.5,
             "#f7f7f7"
            ],
            [
             0.6,
             "#e6f5d0"
            ],
            [
             0.7,
             "#b8e186"
            ],
            [
             0.8,
             "#7fbc41"
            ],
            [
             0.9,
             "#4d9221"
            ],
            [
             1,
             "#276419"
            ]
           ],
           "sequential": [
            [
             0,
             "#0d0887"
            ],
            [
             0.1111111111111111,
             "#46039f"
            ],
            [
             0.2222222222222222,
             "#7201a8"
            ],
            [
             0.3333333333333333,
             "#9c179e"
            ],
            [
             0.4444444444444444,
             "#bd3786"
            ],
            [
             0.5555555555555556,
             "#d8576b"
            ],
            [
             0.6666666666666666,
             "#ed7953"
            ],
            [
             0.7777777777777778,
             "#fb9f3a"
            ],
            [
             0.8888888888888888,
             "#fdca26"
            ],
            [
             1,
             "#f0f921"
            ]
           ],
           "sequentialminus": [
            [
             0,
             "#0d0887"
            ],
            [
             0.1111111111111111,
             "#46039f"
            ],
            [
             0.2222222222222222,
             "#7201a8"
            ],
            [
             0.3333333333333333,
             "#9c179e"
            ],
            [
             0.4444444444444444,
             "#bd3786"
            ],
            [
             0.5555555555555556,
             "#d8576b"
            ],
            [
             0.6666666666666666,
             "#ed7953"
            ],
            [
             0.7777777777777778,
             "#fb9f3a"
            ],
            [
             0.8888888888888888,
             "#fdca26"
            ],
            [
             1,
             "#f0f921"
            ]
           ]
          },
          "colorway": [
           "#636efa",
           "#EF553B",
           "#00cc96",
           "#ab63fa",
           "#FFA15A",
           "#19d3f3",
           "#FF6692",
           "#B6E880",
           "#FF97FF",
           "#FECB52"
          ],
          "font": {
           "color": "#2a3f5f"
          },
          "geo": {
           "bgcolor": "white",
           "lakecolor": "white",
           "landcolor": "#E5ECF6",
           "showlakes": true,
           "showland": true,
           "subunitcolor": "white"
          },
          "hoverlabel": {
           "align": "left"
          },
          "hovermode": "closest",
          "mapbox": {
           "style": "light"
          },
          "paper_bgcolor": "white",
          "plot_bgcolor": "#E5ECF6",
          "polar": {
           "angularaxis": {
            "gridcolor": "white",
            "linecolor": "white",
            "ticks": ""
           },
           "bgcolor": "#E5ECF6",
           "radialaxis": {
            "gridcolor": "white",
            "linecolor": "white",
            "ticks": ""
           }
          },
          "scene": {
           "xaxis": {
            "backgroundcolor": "#E5ECF6",
            "gridcolor": "white",
            "gridwidth": 2,
            "linecolor": "white",
            "showbackground": true,
            "ticks": "",
            "zerolinecolor": "white"
           },
           "yaxis": {
            "backgroundcolor": "#E5ECF6",
            "gridcolor": "white",
            "gridwidth": 2,
            "linecolor": "white",
            "showbackground": true,
            "ticks": "",
            "zerolinecolor": "white"
           },
           "zaxis": {
            "backgroundcolor": "#E5ECF6",
            "gridcolor": "white",
            "gridwidth": 2,
            "linecolor": "white",
            "showbackground": true,
            "ticks": "",
            "zerolinecolor": "white"
           }
          },
          "shapedefaults": {
           "line": {
            "color": "#2a3f5f"
           }
          },
          "ternary": {
           "aaxis": {
            "gridcolor": "white",
            "linecolor": "white",
            "ticks": ""
           },
           "baxis": {
            "gridcolor": "white",
            "linecolor": "white",
            "ticks": ""
           },
           "bgcolor": "#E5ECF6",
           "caxis": {
            "gridcolor": "white",
            "linecolor": "white",
            "ticks": ""
           }
          },
          "title": {
           "x": 0.05
          },
          "xaxis": {
           "automargin": true,
           "gridcolor": "white",
           "linecolor": "white",
           "ticks": "",
           "title": {
            "standoff": 15
           },
           "zerolinecolor": "white",
           "zerolinewidth": 2
          },
          "yaxis": {
           "automargin": true,
           "gridcolor": "white",
           "linecolor": "white",
           "ticks": "",
           "title": {
            "standoff": 15
           },
           "zerolinecolor": "white",
           "zerolinewidth": 2
          }
         }
        }
       }
      }
     },
     "metadata": {},
     "output_type": "display_data"
    }
   ],
   "source": [
    "highest_growth_exporters('USA', 2709)"
   ]
  }
 ],
 "metadata": {
  "kernelspec": {
   "display_name": "Python 3",
   "language": "python",
   "name": "python3"
  },
  "language_info": {
   "codemirror_mode": {
    "name": "ipython",
    "version": 3
   },
   "file_extension": ".py",
   "mimetype": "text/x-python",
   "name": "python",
   "nbconvert_exporter": "python",
   "pygments_lexer": "ipython3",
   "version": "3.11.0"
  }
 },
 "nbformat": 4,
 "nbformat_minor": 2
}
